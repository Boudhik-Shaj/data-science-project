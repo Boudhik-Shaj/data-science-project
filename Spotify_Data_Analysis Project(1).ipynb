{
  "cells": [
    {
      "cell_type": "markdown",
      "id": "6db7ab07",
      "metadata": {
        "id": "6db7ab07",
        "papermill": {
          "duration": 0.035514,
          "end_time": "2022-04-20T20:10:56.07738",
          "exception": false,
          "start_time": "2022-04-20T20:10:56.041866",
          "status": "completed"
        },
        "tags": []
      },
      "source": [
        "## Importing Datasets"
      ]
    },
    {
      "cell_type": "code",
      "execution_count": 215,
      "id": "1eae4738",
      "metadata": {
        "execution": {
          "iopub.execute_input": "2022-04-20T20:10:56.151865Z",
          "iopub.status.busy": "2022-04-20T20:10:56.151584Z",
          "iopub.status.idle": "2022-04-20T20:10:57.420037Z",
          "shell.execute_reply": "2022-04-20T20:10:57.418737Z"
        },
        "id": "1eae4738",
        "papermill": {
          "duration": 1.30785,
          "end_time": "2022-04-20T20:10:57.422902",
          "exception": false,
          "start_time": "2022-04-20T20:10:56.115052",
          "status": "completed"
        },
        "tags": []
      },
      "outputs": [],
      "source": [
        "import numpy as np\n",
        "import pandas as pd\n",
        "import matplotlib.pyplot as plt\n",
        "import seaborn as sns\n",
        "from sklearn.model_selection import train_test_split\n",
        "from sklearn.model_selection import cross_val_score\n",
        "from sklearn.metrics import classification_report\n",
        "from sklearn.linear_model import LogisticRegression\n"
      ]
    },
    {
      "cell_type": "code",
      "execution_count": 216,
      "id": "9c89f7f7",
      "metadata": {
        "execution": {
          "iopub.execute_input": "2022-04-20T20:10:57.496212Z",
          "iopub.status.busy": "2022-04-20T20:10:57.495875Z",
          "iopub.status.idle": "2022-04-20T20:11:04.155792Z",
          "shell.execute_reply": "2022-04-20T20:11:04.154823Z"
        },
        "id": "9c89f7f7",
        "papermill": {
          "duration": 6.699459,
          "end_time": "2022-04-20T20:11:04.158395",
          "exception": false,
          "start_time": "2022-04-20T20:10:57.458936",
          "status": "completed"
        },
        "tags": []
      },
      "outputs": [],
      "source": [
        "# Reading Data Set \n",
        "tracks = pd.read_csv('tracks.csv')\n",
        "genre = pd.read_csv('SpotifyFeatures.csv')"
      ]
    },
    {
      "cell_type": "code",
      "execution_count": 217,
      "id": "7a46628e",
      "metadata": {
        "colab": {
          "base_uri": "https://localhost:8080/",
          "height": 374
        },
        "execution": {
          "iopub.execute_input": "2022-04-20T20:11:04.230619Z",
          "iopub.status.busy": "2022-04-20T20:11:04.23034Z",
          "iopub.status.idle": "2022-04-20T20:11:04.263007Z",
          "shell.execute_reply": "2022-04-20T20:11:04.26207Z"
        },
        "id": "7a46628e",
        "outputId": "7638307e-0cb6-4d6f-df94-5d22337fe377",
        "papermill": {
          "duration": 0.071026,
          "end_time": "2022-04-20T20:11:04.265035",
          "exception": false,
          "start_time": "2022-04-20T20:11:04.194009",
          "status": "completed"
        },
        "tags": []
      },
      "outputs": [
        {
          "data": {
            "text/html": [
              "<div>\n",
              "<style scoped>\n",
              "    .dataframe tbody tr th:only-of-type {\n",
              "        vertical-align: middle;\n",
              "    }\n",
              "\n",
              "    .dataframe tbody tr th {\n",
              "        vertical-align: top;\n",
              "    }\n",
              "\n",
              "    .dataframe thead th {\n",
              "        text-align: right;\n",
              "    }\n",
              "</style>\n",
              "<table border=\"1\" class=\"dataframe\">\n",
              "  <thead>\n",
              "    <tr style=\"text-align: right;\">\n",
              "      <th></th>\n",
              "      <th>id</th>\n",
              "      <th>name</th>\n",
              "      <th>popularity</th>\n",
              "      <th>duration_ms</th>\n",
              "      <th>explicit</th>\n",
              "      <th>artists</th>\n",
              "      <th>id_artists</th>\n",
              "      <th>release_date</th>\n",
              "      <th>danceability</th>\n",
              "      <th>energy</th>\n",
              "      <th>key</th>\n",
              "      <th>loudness</th>\n",
              "      <th>mode</th>\n",
              "      <th>speechiness</th>\n",
              "      <th>acousticness</th>\n",
              "      <th>instrumentalness</th>\n",
              "      <th>liveness</th>\n",
              "      <th>valence</th>\n",
              "      <th>tempo</th>\n",
              "      <th>time_signature</th>\n",
              "    </tr>\n",
              "  </thead>\n",
              "  <tbody>\n",
              "    <tr>\n",
              "      <th>0</th>\n",
              "      <td>35iwgR4jXetI318WEWsa1Q</td>\n",
              "      <td>Carve</td>\n",
              "      <td>6</td>\n",
              "      <td>126903</td>\n",
              "      <td>0</td>\n",
              "      <td>['Uli']</td>\n",
              "      <td>['45tIt06XoI0Iio4LBEVpls']</td>\n",
              "      <td>22-02-1922</td>\n",
              "      <td>0.645</td>\n",
              "      <td>0.4450</td>\n",
              "      <td>0</td>\n",
              "      <td>-13.338</td>\n",
              "      <td>1</td>\n",
              "      <td>0.4510</td>\n",
              "      <td>0.674</td>\n",
              "      <td>0.7440</td>\n",
              "      <td>0.151</td>\n",
              "      <td>0.127</td>\n",
              "      <td>104.851</td>\n",
              "      <td>3</td>\n",
              "    </tr>\n",
              "    <tr>\n",
              "      <th>1</th>\n",
              "      <td>021ht4sdgPcrDgSk7JTbKY</td>\n",
              "      <td>Capítulo 2.16 - Banquero Anarquista</td>\n",
              "      <td>0</td>\n",
              "      <td>98200</td>\n",
              "      <td>0</td>\n",
              "      <td>['Fernando Pessoa']</td>\n",
              "      <td>['14jtPCOoNZwquk5wd9DxrY']</td>\n",
              "      <td>01-06-1922</td>\n",
              "      <td>0.695</td>\n",
              "      <td>0.2630</td>\n",
              "      <td>0</td>\n",
              "      <td>-22.136</td>\n",
              "      <td>1</td>\n",
              "      <td>0.9570</td>\n",
              "      <td>0.797</td>\n",
              "      <td>0.0000</td>\n",
              "      <td>0.148</td>\n",
              "      <td>0.655</td>\n",
              "      <td>102.009</td>\n",
              "      <td>1</td>\n",
              "    </tr>\n",
              "    <tr>\n",
              "      <th>2</th>\n",
              "      <td>07A5yehtSnoedViJAZkNnc</td>\n",
              "      <td>Vivo para Quererte - Remasterizado</td>\n",
              "      <td>0</td>\n",
              "      <td>181640</td>\n",
              "      <td>0</td>\n",
              "      <td>['Ignacio Corsini']</td>\n",
              "      <td>['5LiOoJbxVSAMkBS2fUm3X2']</td>\n",
              "      <td>21-03-1922</td>\n",
              "      <td>0.434</td>\n",
              "      <td>0.1770</td>\n",
              "      <td>1</td>\n",
              "      <td>-21.180</td>\n",
              "      <td>1</td>\n",
              "      <td>0.0512</td>\n",
              "      <td>0.994</td>\n",
              "      <td>0.0218</td>\n",
              "      <td>0.212</td>\n",
              "      <td>0.457</td>\n",
              "      <td>130.418</td>\n",
              "      <td>5</td>\n",
              "    </tr>\n",
              "    <tr>\n",
              "      <th>3</th>\n",
              "      <td>08FmqUhxtyLTn6pAh6bk45</td>\n",
              "      <td>El Prisionero - Remasterizado</td>\n",
              "      <td>0</td>\n",
              "      <td>176907</td>\n",
              "      <td>0</td>\n",
              "      <td>['Ignacio Corsini']</td>\n",
              "      <td>['5LiOoJbxVSAMkBS2fUm3X2']</td>\n",
              "      <td>21-03-1922</td>\n",
              "      <td>0.321</td>\n",
              "      <td>0.0946</td>\n",
              "      <td>7</td>\n",
              "      <td>-27.961</td>\n",
              "      <td>1</td>\n",
              "      <td>0.0504</td>\n",
              "      <td>0.995</td>\n",
              "      <td>0.9180</td>\n",
              "      <td>0.104</td>\n",
              "      <td>0.397</td>\n",
              "      <td>169.980</td>\n",
              "      <td>3</td>\n",
              "    </tr>\n",
              "    <tr>\n",
              "      <th>4</th>\n",
              "      <td>08y9GfoqCWfOGsKdwojr5e</td>\n",
              "      <td>Lady of the Evening</td>\n",
              "      <td>0</td>\n",
              "      <td>163080</td>\n",
              "      <td>0</td>\n",
              "      <td>['Dick Haymes']</td>\n",
              "      <td>['3BiJGZsyX9sJchTqcSA7Su']</td>\n",
              "      <td>1922</td>\n",
              "      <td>0.402</td>\n",
              "      <td>0.1580</td>\n",
              "      <td>3</td>\n",
              "      <td>-16.900</td>\n",
              "      <td>0</td>\n",
              "      <td>0.0390</td>\n",
              "      <td>0.989</td>\n",
              "      <td>0.1300</td>\n",
              "      <td>0.311</td>\n",
              "      <td>0.196</td>\n",
              "      <td>103.220</td>\n",
              "      <td>4</td>\n",
              "    </tr>\n",
              "  </tbody>\n",
              "</table>\n",
              "</div>"
            ],
            "text/plain": [
              "                       id                                 name  popularity  \\\n",
              "0  35iwgR4jXetI318WEWsa1Q                                Carve           6   \n",
              "1  021ht4sdgPcrDgSk7JTbKY  Capítulo 2.16 - Banquero Anarquista           0   \n",
              "2  07A5yehtSnoedViJAZkNnc   Vivo para Quererte - Remasterizado           0   \n",
              "3  08FmqUhxtyLTn6pAh6bk45        El Prisionero - Remasterizado           0   \n",
              "4  08y9GfoqCWfOGsKdwojr5e                  Lady of the Evening           0   \n",
              "\n",
              "   duration_ms  explicit              artists                  id_artists  \\\n",
              "0       126903         0              ['Uli']  ['45tIt06XoI0Iio4LBEVpls']   \n",
              "1        98200         0  ['Fernando Pessoa']  ['14jtPCOoNZwquk5wd9DxrY']   \n",
              "2       181640         0  ['Ignacio Corsini']  ['5LiOoJbxVSAMkBS2fUm3X2']   \n",
              "3       176907         0  ['Ignacio Corsini']  ['5LiOoJbxVSAMkBS2fUm3X2']   \n",
              "4       163080         0      ['Dick Haymes']  ['3BiJGZsyX9sJchTqcSA7Su']   \n",
              "\n",
              "  release_date  danceability  energy  key  loudness  mode  speechiness  \\\n",
              "0   22-02-1922         0.645  0.4450    0   -13.338     1       0.4510   \n",
              "1   01-06-1922         0.695  0.2630    0   -22.136     1       0.9570   \n",
              "2   21-03-1922         0.434  0.1770    1   -21.180     1       0.0512   \n",
              "3   21-03-1922         0.321  0.0946    7   -27.961     1       0.0504   \n",
              "4         1922         0.402  0.1580    3   -16.900     0       0.0390   \n",
              "\n",
              "   acousticness  instrumentalness  liveness  valence    tempo  time_signature  \n",
              "0         0.674            0.7440     0.151    0.127  104.851               3  \n",
              "1         0.797            0.0000     0.148    0.655  102.009               1  \n",
              "2         0.994            0.0218     0.212    0.457  130.418               5  \n",
              "3         0.995            0.9180     0.104    0.397  169.980               3  \n",
              "4         0.989            0.1300     0.311    0.196  103.220               4  "
            ]
          },
          "execution_count": 217,
          "metadata": {},
          "output_type": "execute_result"
        }
      ],
      "source": [
        "tracks.head()"
      ]
    },
    {
      "cell_type": "code",
      "execution_count": 218,
      "id": "d6f44a7c",
      "metadata": {
        "colab": {
          "base_uri": "https://localhost:8080/",
          "height": 461
        },
        "execution": {
          "iopub.execute_input": "2022-04-20T20:11:04.339638Z",
          "iopub.status.busy": "2022-04-20T20:11:04.339325Z",
          "iopub.status.idle": "2022-04-20T20:11:04.361195Z",
          "shell.execute_reply": "2022-04-20T20:11:04.360583Z"
        },
        "id": "d6f44a7c",
        "outputId": "a92f4231-a2d3-41c7-c15b-c7b15e07e408",
        "papermill": {
          "duration": 0.061192,
          "end_time": "2022-04-20T20:11:04.363089",
          "exception": false,
          "start_time": "2022-04-20T20:11:04.301897",
          "status": "completed"
        },
        "tags": []
      },
      "outputs": [
        {
          "data": {
            "text/html": [
              "<div>\n",
              "<style scoped>\n",
              "    .dataframe tbody tr th:only-of-type {\n",
              "        vertical-align: middle;\n",
              "    }\n",
              "\n",
              "    .dataframe tbody tr th {\n",
              "        vertical-align: top;\n",
              "    }\n",
              "\n",
              "    .dataframe thead th {\n",
              "        text-align: right;\n",
              "    }\n",
              "</style>\n",
              "<table border=\"1\" class=\"dataframe\">\n",
              "  <thead>\n",
              "    <tr style=\"text-align: right;\">\n",
              "      <th></th>\n",
              "      <th>genre</th>\n",
              "      <th>artist_name</th>\n",
              "      <th>track_name</th>\n",
              "      <th>track_id</th>\n",
              "      <th>popularity</th>\n",
              "      <th>acousticness</th>\n",
              "      <th>danceability</th>\n",
              "      <th>duration_ms</th>\n",
              "      <th>energy</th>\n",
              "      <th>instrumentalness</th>\n",
              "      <th>key</th>\n",
              "      <th>liveness</th>\n",
              "      <th>loudness</th>\n",
              "      <th>mode</th>\n",
              "      <th>speechiness</th>\n",
              "      <th>tempo</th>\n",
              "      <th>time_signature</th>\n",
              "      <th>valence</th>\n",
              "    </tr>\n",
              "  </thead>\n",
              "  <tbody>\n",
              "    <tr>\n",
              "      <th>0</th>\n",
              "      <td>Movie</td>\n",
              "      <td>Henri Salvador</td>\n",
              "      <td>C'est beau de faire un Show</td>\n",
              "      <td>0BRjO6ga9RKCKjfDqeFgWV</td>\n",
              "      <td>0</td>\n",
              "      <td>0.611</td>\n",
              "      <td>0.389</td>\n",
              "      <td>99373</td>\n",
              "      <td>0.910</td>\n",
              "      <td>0.000</td>\n",
              "      <td>C#</td>\n",
              "      <td>0.3460</td>\n",
              "      <td>-1.828</td>\n",
              "      <td>Major</td>\n",
              "      <td>0.0525</td>\n",
              "      <td>166.969</td>\n",
              "      <td>04-Apr</td>\n",
              "      <td>0.814</td>\n",
              "    </tr>\n",
              "    <tr>\n",
              "      <th>1</th>\n",
              "      <td>Movie</td>\n",
              "      <td>Martin &amp; les fées</td>\n",
              "      <td>Perdu d'avance (par Gad Elmaleh)</td>\n",
              "      <td>0BjC1NfoEOOusryehmNudP</td>\n",
              "      <td>1</td>\n",
              "      <td>0.246</td>\n",
              "      <td>0.590</td>\n",
              "      <td>137373</td>\n",
              "      <td>0.737</td>\n",
              "      <td>0.000</td>\n",
              "      <td>F#</td>\n",
              "      <td>0.1510</td>\n",
              "      <td>-5.559</td>\n",
              "      <td>Minor</td>\n",
              "      <td>0.0868</td>\n",
              "      <td>174.003</td>\n",
              "      <td>04-Apr</td>\n",
              "      <td>0.816</td>\n",
              "    </tr>\n",
              "    <tr>\n",
              "      <th>2</th>\n",
              "      <td>Movie</td>\n",
              "      <td>Joseph Williams</td>\n",
              "      <td>Don't Let Me Be Lonely Tonight</td>\n",
              "      <td>0CoSDzoNIKCRs124s9uTVy</td>\n",
              "      <td>3</td>\n",
              "      <td>0.952</td>\n",
              "      <td>0.663</td>\n",
              "      <td>170267</td>\n",
              "      <td>0.131</td>\n",
              "      <td>0.000</td>\n",
              "      <td>C</td>\n",
              "      <td>0.1030</td>\n",
              "      <td>-13.879</td>\n",
              "      <td>Minor</td>\n",
              "      <td>0.0362</td>\n",
              "      <td>99.488</td>\n",
              "      <td>05-Apr</td>\n",
              "      <td>0.368</td>\n",
              "    </tr>\n",
              "    <tr>\n",
              "      <th>3</th>\n",
              "      <td>Movie</td>\n",
              "      <td>Henri Salvador</td>\n",
              "      <td>Dis-moi Monsieur Gordon Cooper</td>\n",
              "      <td>0Gc6TVm52BwZD07Ki6tIvf</td>\n",
              "      <td>0</td>\n",
              "      <td>0.703</td>\n",
              "      <td>0.240</td>\n",
              "      <td>152427</td>\n",
              "      <td>0.326</td>\n",
              "      <td>0.000</td>\n",
              "      <td>C#</td>\n",
              "      <td>0.0985</td>\n",
              "      <td>-12.178</td>\n",
              "      <td>Major</td>\n",
              "      <td>0.0395</td>\n",
              "      <td>171.758</td>\n",
              "      <td>04-Apr</td>\n",
              "      <td>0.227</td>\n",
              "    </tr>\n",
              "    <tr>\n",
              "      <th>4</th>\n",
              "      <td>Movie</td>\n",
              "      <td>Fabien Nataf</td>\n",
              "      <td>Ouverture</td>\n",
              "      <td>0IuslXpMROHdEPvSl1fTQK</td>\n",
              "      <td>4</td>\n",
              "      <td>0.950</td>\n",
              "      <td>0.331</td>\n",
              "      <td>82625</td>\n",
              "      <td>0.225</td>\n",
              "      <td>0.123</td>\n",
              "      <td>F</td>\n",
              "      <td>0.2020</td>\n",
              "      <td>-21.150</td>\n",
              "      <td>Major</td>\n",
              "      <td>0.0456</td>\n",
              "      <td>140.576</td>\n",
              "      <td>04-Apr</td>\n",
              "      <td>0.390</td>\n",
              "    </tr>\n",
              "  </tbody>\n",
              "</table>\n",
              "</div>"
            ],
            "text/plain": [
              "   genre        artist_name                        track_name  \\\n",
              "0  Movie     Henri Salvador       C'est beau de faire un Show   \n",
              "1  Movie  Martin & les fées  Perdu d'avance (par Gad Elmaleh)   \n",
              "2  Movie    Joseph Williams    Don't Let Me Be Lonely Tonight   \n",
              "3  Movie     Henri Salvador    Dis-moi Monsieur Gordon Cooper   \n",
              "4  Movie       Fabien Nataf                         Ouverture   \n",
              "\n",
              "                 track_id  popularity  acousticness  danceability  \\\n",
              "0  0BRjO6ga9RKCKjfDqeFgWV           0         0.611         0.389   \n",
              "1  0BjC1NfoEOOusryehmNudP           1         0.246         0.590   \n",
              "2  0CoSDzoNIKCRs124s9uTVy           3         0.952         0.663   \n",
              "3  0Gc6TVm52BwZD07Ki6tIvf           0         0.703         0.240   \n",
              "4  0IuslXpMROHdEPvSl1fTQK           4         0.950         0.331   \n",
              "\n",
              "   duration_ms  energy  instrumentalness key  liveness  loudness   mode  \\\n",
              "0        99373   0.910             0.000  C#    0.3460    -1.828  Major   \n",
              "1       137373   0.737             0.000  F#    0.1510    -5.559  Minor   \n",
              "2       170267   0.131             0.000   C    0.1030   -13.879  Minor   \n",
              "3       152427   0.326             0.000  C#    0.0985   -12.178  Major   \n",
              "4        82625   0.225             0.123   F    0.2020   -21.150  Major   \n",
              "\n",
              "   speechiness    tempo time_signature  valence  \n",
              "0       0.0525  166.969         04-Apr    0.814  \n",
              "1       0.0868  174.003         04-Apr    0.816  \n",
              "2       0.0362   99.488         05-Apr    0.368  \n",
              "3       0.0395  171.758         04-Apr    0.227  \n",
              "4       0.0456  140.576         04-Apr    0.390  "
            ]
          },
          "execution_count": 218,
          "metadata": {},
          "output_type": "execute_result"
        }
      ],
      "source": [
        "genre.head()"
      ]
    },
    {
      "cell_type": "markdown",
      "id": "b6736429",
      "metadata": {
        "id": "b6736429",
        "papermill": {
          "duration": 0.045557,
          "end_time": "2022-04-20T20:11:04.461196",
          "exception": false,
          "start_time": "2022-04-20T20:11:04.415639",
          "status": "completed"
        },
        "tags": []
      },
      "source": [
        "## Spotify Tracks Dataset Analysis"
      ]
    },
    {
      "cell_type": "code",
      "execution_count": 219,
      "id": "d77d0f10",
      "metadata": {
        "colab": {
          "base_uri": "https://localhost:8080/"
        },
        "execution": {
          "iopub.execute_input": "2022-04-20T20:11:04.544265Z",
          "iopub.status.busy": "2022-04-20T20:11:04.543506Z",
          "iopub.status.idle": "2022-04-20T20:11:04.88516Z",
          "shell.execute_reply": "2022-04-20T20:11:04.884179Z"
        },
        "id": "d77d0f10",
        "outputId": "ea6a4df8-1dfe-4e2b-85fd-50c617e4f778",
        "papermill": {
          "duration": 0.383878,
          "end_time": "2022-04-20T20:11:04.887577",
          "exception": false,
          "start_time": "2022-04-20T20:11:04.503699",
          "status": "completed"
        },
        "tags": []
      },
      "outputs": [
        {
          "data": {
            "text/plain": [
              "id                  0\n",
              "name                0\n",
              "popularity          0\n",
              "duration_ms         0\n",
              "explicit            0\n",
              "artists             0\n",
              "id_artists          0\n",
              "release_date        0\n",
              "danceability        0\n",
              "energy              0\n",
              "key                 0\n",
              "loudness            0\n",
              "mode                0\n",
              "speechiness         0\n",
              "acousticness        0\n",
              "instrumentalness    0\n",
              "liveness            0\n",
              "valence             0\n",
              "tempo               0\n",
              "time_signature      0\n",
              "dtype: int64"
            ]
          },
          "execution_count": 219,
          "metadata": {},
          "output_type": "execute_result"
        }
      ],
      "source": [
        "# checking null values\n",
        "pd.isnull(tracks).sum()"
      ]
    },
    {
      "cell_type": "code",
      "execution_count": 220,
      "id": "a3eeb850",
      "metadata": {},
      "outputs": [],
      "source": [
        "tracks.drop(['id_artists','id'],axis=1,inplace=True)"
      ]
    },
    {
      "cell_type": "code",
      "execution_count": 221,
      "id": "98872290",
      "metadata": {
        "colab": {
          "base_uri": "https://localhost:8080/"
        },
        "execution": {
          "iopub.execute_input": "2022-04-20T20:11:04.971797Z",
          "iopub.status.busy": "2022-04-20T20:11:04.971484Z",
          "iopub.status.idle": "2022-04-20T20:11:05.337899Z",
          "shell.execute_reply": "2022-04-20T20:11:05.336915Z"
        },
        "id": "98872290",
        "outputId": "851ccf88-0a99-4d51-cc32-b465071df0ef",
        "papermill": {
          "duration": 0.411515,
          "end_time": "2022-04-20T20:11:05.340852",
          "exception": false,
          "start_time": "2022-04-20T20:11:04.929337",
          "status": "completed"
        },
        "tags": []
      },
      "outputs": [
        {
          "name": "stdout",
          "output_type": "stream",
          "text": [
            "<class 'pandas.core.frame.DataFrame'>\n",
            "RangeIndex: 10124 entries, 0 to 10123\n",
            "Data columns (total 18 columns):\n",
            " #   Column            Non-Null Count  Dtype  \n",
            "---  ------            --------------  -----  \n",
            " 0   name              10124 non-null  object \n",
            " 1   popularity        10124 non-null  int64  \n",
            " 2   duration_ms       10124 non-null  int64  \n",
            " 3   explicit          10124 non-null  int64  \n",
            " 4   artists           10124 non-null  object \n",
            " 5   release_date      10124 non-null  object \n",
            " 6   danceability      10124 non-null  float64\n",
            " 7   energy            10124 non-null  float64\n",
            " 8   key               10124 non-null  int64  \n",
            " 9   loudness          10124 non-null  float64\n",
            " 10  mode              10124 non-null  int64  \n",
            " 11  speechiness       10124 non-null  float64\n",
            " 12  acousticness      10124 non-null  float64\n",
            " 13  instrumentalness  10124 non-null  float64\n",
            " 14  liveness          10124 non-null  float64\n",
            " 15  valence           10124 non-null  float64\n",
            " 16  tempo             10124 non-null  float64\n",
            " 17  time_signature    10124 non-null  int64  \n",
            "dtypes: float64(9), int64(6), object(3)\n",
            "memory usage: 1.4+ MB\n"
          ]
        }
      ],
      "source": [
        "tracks.info()"
      ]
    },
    {
      "cell_type": "markdown",
      "id": "a2651d20",
      "metadata": {
        "id": "a2651d20",
        "papermill": {
          "duration": 0.039492,
          "end_time": "2022-04-20T20:11:05.420425",
          "exception": false,
          "start_time": "2022-04-20T20:11:05.380933",
          "status": "completed"
        },
        "tags": []
      },
      "source": [
        "### Descriptive statistics of Spotify tracks"
      ]
    },
    {
      "cell_type": "code",
      "execution_count": 222,
      "id": "04d8f4eb",
      "metadata": {
        "colab": {
          "base_uri": "https://localhost:8080/",
          "height": 520
        },
        "execution": {
          "iopub.execute_input": "2022-04-20T20:11:05.500171Z",
          "iopub.status.busy": "2022-04-20T20:11:05.499537Z",
          "iopub.status.idle": "2022-04-20T20:11:05.982842Z",
          "shell.execute_reply": "2022-04-20T20:11:05.981886Z"
        },
        "id": "04d8f4eb",
        "outputId": "dd319741-6725-4d18-8de7-125b78cec115",
        "papermill": {
          "duration": 0.525553,
          "end_time": "2022-04-20T20:11:05.985239",
          "exception": false,
          "start_time": "2022-04-20T20:11:05.459686",
          "status": "completed"
        },
        "tags": []
      },
      "outputs": [
        {
          "data": {
            "text/html": [
              "<div>\n",
              "<style scoped>\n",
              "    .dataframe tbody tr th:only-of-type {\n",
              "        vertical-align: middle;\n",
              "    }\n",
              "\n",
              "    .dataframe tbody tr th {\n",
              "        vertical-align: top;\n",
              "    }\n",
              "\n",
              "    .dataframe thead th {\n",
              "        text-align: right;\n",
              "    }\n",
              "</style>\n",
              "<table border=\"1\" class=\"dataframe\">\n",
              "  <thead>\n",
              "    <tr style=\"text-align: right;\">\n",
              "      <th></th>\n",
              "      <th>count</th>\n",
              "      <th>mean</th>\n",
              "      <th>std</th>\n",
              "      <th>min</th>\n",
              "      <th>25%</th>\n",
              "      <th>50%</th>\n",
              "      <th>75%</th>\n",
              "      <th>max</th>\n",
              "    </tr>\n",
              "  </thead>\n",
              "  <tbody>\n",
              "    <tr>\n",
              "      <th>popularity</th>\n",
              "      <td>10124.0</td>\n",
              "      <td>1.837515</td>\n",
              "      <td>5.132462</td>\n",
              "      <td>0.0</td>\n",
              "      <td>0.00000</td>\n",
              "      <td>0.00000</td>\n",
              "      <td>1.0000</td>\n",
              "      <td>65.000</td>\n",
              "    </tr>\n",
              "    <tr>\n",
              "      <th>duration_ms</th>\n",
              "      <td>10124.0</td>\n",
              "      <td>188470.533880</td>\n",
              "      <td>97816.817793</td>\n",
              "      <td>3344.0</td>\n",
              "      <td>151289.75000</td>\n",
              "      <td>177682.50000</td>\n",
              "      <td>194766.7500</td>\n",
              "      <td>3093226.000</td>\n",
              "    </tr>\n",
              "    <tr>\n",
              "      <th>explicit</th>\n",
              "      <td>10124.0</td>\n",
              "      <td>0.003161</td>\n",
              "      <td>0.056135</td>\n",
              "      <td>0.0</td>\n",
              "      <td>0.00000</td>\n",
              "      <td>0.00000</td>\n",
              "      <td>0.0000</td>\n",
              "      <td>1.000</td>\n",
              "    </tr>\n",
              "    <tr>\n",
              "      <th>danceability</th>\n",
              "      <td>10124.0</td>\n",
              "      <td>0.586751</td>\n",
              "      <td>0.163274</td>\n",
              "      <td>0.0</td>\n",
              "      <td>0.47700</td>\n",
              "      <td>0.62800</td>\n",
              "      <td>0.7100</td>\n",
              "      <td>0.956</td>\n",
              "    </tr>\n",
              "    <tr>\n",
              "      <th>energy</th>\n",
              "      <td>10124.0</td>\n",
              "      <td>0.264942</td>\n",
              "      <td>0.151171</td>\n",
              "      <td>0.0</td>\n",
              "      <td>0.16500</td>\n",
              "      <td>0.24100</td>\n",
              "      <td>0.3270</td>\n",
              "      <td>1.000</td>\n",
              "    </tr>\n",
              "    <tr>\n",
              "      <th>key</th>\n",
              "      <td>10124.0</td>\n",
              "      <td>4.925425</td>\n",
              "      <td>3.469981</td>\n",
              "      <td>0.0</td>\n",
              "      <td>2.00000</td>\n",
              "      <td>5.00000</td>\n",
              "      <td>8.0000</td>\n",
              "      <td>11.000</td>\n",
              "    </tr>\n",
              "    <tr>\n",
              "      <th>loudness</th>\n",
              "      <td>10124.0</td>\n",
              "      <td>-15.375379</td>\n",
              "      <td>5.402282</td>\n",
              "      <td>-60.0</td>\n",
              "      <td>-19.34725</td>\n",
              "      <td>-14.98500</td>\n",
              "      <td>-11.4750</td>\n",
              "      <td>0.674</td>\n",
              "    </tr>\n",
              "    <tr>\n",
              "      <th>mode</th>\n",
              "      <td>10124.0</td>\n",
              "      <td>0.719577</td>\n",
              "      <td>0.449228</td>\n",
              "      <td>0.0</td>\n",
              "      <td>0.00000</td>\n",
              "      <td>1.00000</td>\n",
              "      <td>1.0000</td>\n",
              "      <td>1.000</td>\n",
              "    </tr>\n",
              "    <tr>\n",
              "      <th>speechiness</th>\n",
              "      <td>10124.0</td>\n",
              "      <td>0.284414</td>\n",
              "      <td>0.365153</td>\n",
              "      <td>0.0</td>\n",
              "      <td>0.04620</td>\n",
              "      <td>0.07560</td>\n",
              "      <td>0.3530</td>\n",
              "      <td>0.969</td>\n",
              "    </tr>\n",
              "    <tr>\n",
              "      <th>acousticness</th>\n",
              "      <td>10124.0</td>\n",
              "      <td>0.872825</td>\n",
              "      <td>0.196640</td>\n",
              "      <td>0.0</td>\n",
              "      <td>0.84000</td>\n",
              "      <td>0.96900</td>\n",
              "      <td>0.9920</td>\n",
              "      <td>0.996</td>\n",
              "    </tr>\n",
              "    <tr>\n",
              "      <th>instrumentalness</th>\n",
              "      <td>10124.0</td>\n",
              "      <td>0.277661</td>\n",
              "      <td>0.372684</td>\n",
              "      <td>0.0</td>\n",
              "      <td>0.00000</td>\n",
              "      <td>0.00766</td>\n",
              "      <td>0.6890</td>\n",
              "      <td>0.993</td>\n",
              "    </tr>\n",
              "    <tr>\n",
              "      <th>liveness</th>\n",
              "      <td>10124.0</td>\n",
              "      <td>0.210837</td>\n",
              "      <td>0.149811</td>\n",
              "      <td>0.0</td>\n",
              "      <td>0.11200</td>\n",
              "      <td>0.15800</td>\n",
              "      <td>0.2650</td>\n",
              "      <td>0.973</td>\n",
              "    </tr>\n",
              "    <tr>\n",
              "      <th>valence</th>\n",
              "      <td>10124.0</td>\n",
              "      <td>0.585749</td>\n",
              "      <td>0.235049</td>\n",
              "      <td>0.0</td>\n",
              "      <td>0.41500</td>\n",
              "      <td>0.61700</td>\n",
              "      <td>0.7720</td>\n",
              "      <td>0.986</td>\n",
              "    </tr>\n",
              "    <tr>\n",
              "      <th>tempo</th>\n",
              "      <td>10124.0</td>\n",
              "      <td>111.370066</td>\n",
              "      <td>31.094622</td>\n",
              "      <td>0.0</td>\n",
              "      <td>86.68500</td>\n",
              "      <td>111.17900</td>\n",
              "      <td>126.6835</td>\n",
              "      <td>221.741</td>\n",
              "    </tr>\n",
              "    <tr>\n",
              "      <th>time_signature</th>\n",
              "      <td>10124.0</td>\n",
              "      <td>3.753161</td>\n",
              "      <td>0.698154</td>\n",
              "      <td>0.0</td>\n",
              "      <td>4.00000</td>\n",
              "      <td>4.00000</td>\n",
              "      <td>4.0000</td>\n",
              "      <td>5.000</td>\n",
              "    </tr>\n",
              "  </tbody>\n",
              "</table>\n",
              "</div>"
            ],
            "text/plain": [
              "                    count           mean           std     min           25%  \\\n",
              "popularity        10124.0       1.837515      5.132462     0.0       0.00000   \n",
              "duration_ms       10124.0  188470.533880  97816.817793  3344.0  151289.75000   \n",
              "explicit          10124.0       0.003161      0.056135     0.0       0.00000   \n",
              "danceability      10124.0       0.586751      0.163274     0.0       0.47700   \n",
              "energy            10124.0       0.264942      0.151171     0.0       0.16500   \n",
              "key               10124.0       4.925425      3.469981     0.0       2.00000   \n",
              "loudness          10124.0     -15.375379      5.402282   -60.0     -19.34725   \n",
              "mode              10124.0       0.719577      0.449228     0.0       0.00000   \n",
              "speechiness       10124.0       0.284414      0.365153     0.0       0.04620   \n",
              "acousticness      10124.0       0.872825      0.196640     0.0       0.84000   \n",
              "instrumentalness  10124.0       0.277661      0.372684     0.0       0.00000   \n",
              "liveness          10124.0       0.210837      0.149811     0.0       0.11200   \n",
              "valence           10124.0       0.585749      0.235049     0.0       0.41500   \n",
              "tempo             10124.0     111.370066     31.094622     0.0      86.68500   \n",
              "time_signature    10124.0       3.753161      0.698154     0.0       4.00000   \n",
              "\n",
              "                           50%          75%          max  \n",
              "popularity             0.00000       1.0000       65.000  \n",
              "duration_ms       177682.50000  194766.7500  3093226.000  \n",
              "explicit               0.00000       0.0000        1.000  \n",
              "danceability           0.62800       0.7100        0.956  \n",
              "energy                 0.24100       0.3270        1.000  \n",
              "key                    5.00000       8.0000       11.000  \n",
              "loudness             -14.98500     -11.4750        0.674  \n",
              "mode                   1.00000       1.0000        1.000  \n",
              "speechiness            0.07560       0.3530        0.969  \n",
              "acousticness           0.96900       0.9920        0.996  \n",
              "instrumentalness       0.00766       0.6890        0.993  \n",
              "liveness               0.15800       0.2650        0.973  \n",
              "valence                0.61700       0.7720        0.986  \n",
              "tempo                111.17900     126.6835      221.741  \n",
              "time_signature         4.00000       4.0000        5.000  "
            ]
          },
          "execution_count": 222,
          "metadata": {},
          "output_type": "execute_result"
        }
      ],
      "source": [
        "tracks.describe().transpose()"
      ]
    },
    {
      "cell_type": "markdown",
      "id": "05b06e21",
      "metadata": {
        "id": "05b06e21",
        "papermill": {
          "duration": 0.038943,
          "end_time": "2022-04-20T20:11:06.065435",
          "exception": false,
          "start_time": "2022-04-20T20:11:06.026492",
          "status": "completed"
        },
        "tags": []
      },
      "source": [
        "### Top 10 most popular songs on Spotify"
      ]
    },
    {
      "cell_type": "code",
      "execution_count": 223,
      "id": "92615ecf",
      "metadata": {
        "colab": {
          "base_uri": "https://localhost:8080/",
          "height": 113
        },
        "execution": {
          "iopub.execute_input": "2022-04-20T20:11:06.1442Z",
          "iopub.status.busy": "2022-04-20T20:11:06.143663Z",
          "iopub.status.idle": "2022-04-20T20:11:06.181308Z",
          "shell.execute_reply": "2022-04-20T20:11:06.180186Z"
        },
        "id": "92615ecf",
        "outputId": "009283e7-8b19-4f2e-faf7-538b0ca94f03",
        "papermill": {
          "duration": 0.079904,
          "end_time": "2022-04-20T20:11:06.183708",
          "exception": false,
          "start_time": "2022-04-20T20:11:06.103804",
          "status": "completed"
        },
        "tags": []
      },
      "outputs": [
        {
          "data": {
            "text/html": [
              "<div>\n",
              "<style scoped>\n",
              "    .dataframe tbody tr th:only-of-type {\n",
              "        vertical-align: middle;\n",
              "    }\n",
              "\n",
              "    .dataframe tbody tr th {\n",
              "        vertical-align: top;\n",
              "    }\n",
              "\n",
              "    .dataframe thead th {\n",
              "        text-align: right;\n",
              "    }\n",
              "</style>\n",
              "<table border=\"1\" class=\"dataframe\">\n",
              "  <thead>\n",
              "    <tr style=\"text-align: right;\">\n",
              "      <th></th>\n",
              "      <th>name</th>\n",
              "      <th>popularity</th>\n",
              "      <th>duration_ms</th>\n",
              "      <th>explicit</th>\n",
              "      <th>artists</th>\n",
              "      <th>release_date</th>\n",
              "      <th>danceability</th>\n",
              "      <th>energy</th>\n",
              "      <th>key</th>\n",
              "      <th>loudness</th>\n",
              "      <th>mode</th>\n",
              "      <th>speechiness</th>\n",
              "      <th>acousticness</th>\n",
              "      <th>instrumentalness</th>\n",
              "      <th>liveness</th>\n",
              "      <th>valence</th>\n",
              "      <th>tempo</th>\n",
              "      <th>time_signature</th>\n",
              "    </tr>\n",
              "  </thead>\n",
              "  <tbody>\n",
              "  </tbody>\n",
              "</table>\n",
              "</div>"
            ],
            "text/plain": [
              "Empty DataFrame\n",
              "Columns: [name, popularity, duration_ms, explicit, artists, release_date, danceability, energy, key, loudness, mode, speechiness, acousticness, instrumentalness, liveness, valence, tempo, time_signature]\n",
              "Index: []"
            ]
          },
          "execution_count": 223,
          "metadata": {},
          "output_type": "execute_result"
        }
      ],
      "source": [
        "most = tracks.query('popularity > 90', inplace = False).sort_values('popularity', ascending = False)\n",
        "most[:10]"
      ]
    },
    {
      "cell_type": "markdown",
      "id": "32328afb",
      "metadata": {
        "id": "32328afb",
        "papermill": {
          "duration": 0.042191,
          "end_time": "2022-04-20T20:11:06.266671",
          "exception": false,
          "start_time": "2022-04-20T20:11:06.22448",
          "status": "completed"
        },
        "tags": []
      },
      "source": [
        "### Top 10 least popular songs on Spotify"
      ]
    },
    {
      "cell_type": "code",
      "execution_count": 224,
      "id": "a9550dc5",
      "metadata": {
        "colab": {
          "base_uri": "https://localhost:8080/",
          "height": 687
        },
        "execution": {
          "iopub.execute_input": "2022-04-20T20:11:06.351841Z",
          "iopub.status.busy": "2022-04-20T20:11:06.350798Z",
          "iopub.status.idle": "2022-04-20T20:11:06.621038Z",
          "shell.execute_reply": "2022-04-20T20:11:06.620071Z"
        },
        "id": "a9550dc5",
        "outputId": "b8375575-5b01-4323-d225-6a9540799aa8",
        "papermill": {
          "duration": 0.315104,
          "end_time": "2022-04-20T20:11:06.623688",
          "exception": false,
          "start_time": "2022-04-20T20:11:06.308584",
          "status": "completed"
        },
        "tags": []
      },
      "outputs": [
        {
          "data": {
            "text/html": [
              "<div>\n",
              "<style scoped>\n",
              "    .dataframe tbody tr th:only-of-type {\n",
              "        vertical-align: middle;\n",
              "    }\n",
              "\n",
              "    .dataframe tbody tr th {\n",
              "        vertical-align: top;\n",
              "    }\n",
              "\n",
              "    .dataframe thead th {\n",
              "        text-align: right;\n",
              "    }\n",
              "</style>\n",
              "<table border=\"1\" class=\"dataframe\">\n",
              "  <thead>\n",
              "    <tr style=\"text-align: right;\">\n",
              "      <th></th>\n",
              "      <th>name</th>\n",
              "      <th>popularity</th>\n",
              "      <th>duration_ms</th>\n",
              "      <th>explicit</th>\n",
              "      <th>artists</th>\n",
              "      <th>release_date</th>\n",
              "      <th>danceability</th>\n",
              "      <th>energy</th>\n",
              "      <th>key</th>\n",
              "      <th>loudness</th>\n",
              "      <th>mode</th>\n",
              "      <th>speechiness</th>\n",
              "      <th>acousticness</th>\n",
              "      <th>instrumentalness</th>\n",
              "      <th>liveness</th>\n",
              "      <th>valence</th>\n",
              "      <th>tempo</th>\n",
              "      <th>time_signature</th>\n",
              "    </tr>\n",
              "  </thead>\n",
              "  <tbody>\n",
              "    <tr>\n",
              "      <th>5061</th>\n",
              "      <td>Rostro Palido - Instrumental (Remasterizado)</td>\n",
              "      <td>0</td>\n",
              "      <td>164533</td>\n",
              "      <td>0</td>\n",
              "      <td>['Francisco Canaro']</td>\n",
              "      <td>18-10-1929</td>\n",
              "      <td>0.729</td>\n",
              "      <td>0.1800</td>\n",
              "      <td>4</td>\n",
              "      <td>-13.543</td>\n",
              "      <td>0</td>\n",
              "      <td>0.0867</td>\n",
              "      <td>0.995</td>\n",
              "      <td>0.5960</td>\n",
              "      <td>0.161</td>\n",
              "      <td>0.776</td>\n",
              "      <td>120.215</td>\n",
              "      <td>4</td>\n",
              "    </tr>\n",
              "    <tr>\n",
              "      <th>6058</th>\n",
              "      <td>Tres Aires Bolivianos</td>\n",
              "      <td>0</td>\n",
              "      <td>211435</td>\n",
              "      <td>0</td>\n",
              "      <td>['Banda Española']</td>\n",
              "      <td>01-01-1930</td>\n",
              "      <td>0.602</td>\n",
              "      <td>0.4300</td>\n",
              "      <td>0</td>\n",
              "      <td>-12.015</td>\n",
              "      <td>0</td>\n",
              "      <td>0.0972</td>\n",
              "      <td>0.996</td>\n",
              "      <td>0.8240</td>\n",
              "      <td>0.434</td>\n",
              "      <td>0.671</td>\n",
              "      <td>82.546</td>\n",
              "      <td>3</td>\n",
              "    </tr>\n",
              "    <tr>\n",
              "      <th>6056</th>\n",
              "      <td>Polle Nihtes Perpatisa</td>\n",
              "      <td>0</td>\n",
              "      <td>189027</td>\n",
              "      <td>0</td>\n",
              "      <td>['Dimiris Holevas']</td>\n",
              "      <td>01-01-1930</td>\n",
              "      <td>0.443</td>\n",
              "      <td>0.6550</td>\n",
              "      <td>8</td>\n",
              "      <td>-5.820</td>\n",
              "      <td>0</td>\n",
              "      <td>0.0402</td>\n",
              "      <td>0.966</td>\n",
              "      <td>0.9140</td>\n",
              "      <td>0.168</td>\n",
              "      <td>0.553</td>\n",
              "      <td>125.637</td>\n",
              "      <td>3</td>\n",
              "    </tr>\n",
              "    <tr>\n",
              "      <th>6055</th>\n",
              "      <td>As Pan Na Doun Ta Matia Mou</td>\n",
              "      <td>0</td>\n",
              "      <td>190053</td>\n",
              "      <td>0</td>\n",
              "      <td>['Dimitris Mpenetos']</td>\n",
              "      <td>01-01-1930</td>\n",
              "      <td>0.481</td>\n",
              "      <td>0.4190</td>\n",
              "      <td>8</td>\n",
              "      <td>-10.022</td>\n",
              "      <td>0</td>\n",
              "      <td>0.0503</td>\n",
              "      <td>0.996</td>\n",
              "      <td>0.1990</td>\n",
              "      <td>0.342</td>\n",
              "      <td>0.846</td>\n",
              "      <td>125.581</td>\n",
              "      <td>4</td>\n",
              "    </tr>\n",
              "    <tr>\n",
              "      <th>6053</th>\n",
              "      <td>L'dovid mizmor</td>\n",
              "      <td>0</td>\n",
              "      <td>233013</td>\n",
              "      <td>0</td>\n",
              "      <td>['Z.Kwartin']</td>\n",
              "      <td>1930</td>\n",
              "      <td>0.261</td>\n",
              "      <td>0.0889</td>\n",
              "      <td>10</td>\n",
              "      <td>-17.633</td>\n",
              "      <td>0</td>\n",
              "      <td>0.0347</td>\n",
              "      <td>0.991</td>\n",
              "      <td>0.5000</td>\n",
              "      <td>0.126</td>\n",
              "      <td>0.191</td>\n",
              "      <td>140.977</td>\n",
              "      <td>4</td>\n",
              "    </tr>\n",
              "    <tr>\n",
              "      <th>6052</th>\n",
              "      <td>Whip Me With Plenty Of Love</td>\n",
              "      <td>0</td>\n",
              "      <td>189378</td>\n",
              "      <td>0</td>\n",
              "      <td>['Clarence Williams &amp; His Washboard Band']</td>\n",
              "      <td>23-04-1930</td>\n",
              "      <td>0.832</td>\n",
              "      <td>0.5910</td>\n",
              "      <td>7</td>\n",
              "      <td>-9.314</td>\n",
              "      <td>1</td>\n",
              "      <td>0.1730</td>\n",
              "      <td>0.991</td>\n",
              "      <td>0.8540</td>\n",
              "      <td>0.221</td>\n",
              "      <td>0.890</td>\n",
              "      <td>112.360</td>\n",
              "      <td>4</td>\n",
              "    </tr>\n",
              "    <tr>\n",
              "      <th>6051</th>\n",
              "      <td>Me thamponoun oi maties sou</td>\n",
              "      <td>0</td>\n",
              "      <td>155453</td>\n",
              "      <td>0</td>\n",
              "      <td>['Dimitris Pedikopoulos']</td>\n",
              "      <td>01-01-1930</td>\n",
              "      <td>0.598</td>\n",
              "      <td>0.6430</td>\n",
              "      <td>10</td>\n",
              "      <td>-9.375</td>\n",
              "      <td>1</td>\n",
              "      <td>0.0452</td>\n",
              "      <td>0.995</td>\n",
              "      <td>0.9320</td>\n",
              "      <td>0.122</td>\n",
              "      <td>0.963</td>\n",
              "      <td>88.479</td>\n",
              "      <td>4</td>\n",
              "    </tr>\n",
              "    <tr>\n",
              "      <th>6050</th>\n",
              "      <td>Stis Livadias Ton Kafene</td>\n",
              "      <td>0</td>\n",
              "      <td>182907</td>\n",
              "      <td>0</td>\n",
              "      <td>['Dimitris Holevas']</td>\n",
              "      <td>01-01-1930</td>\n",
              "      <td>0.527</td>\n",
              "      <td>0.3200</td>\n",
              "      <td>6</td>\n",
              "      <td>-9.745</td>\n",
              "      <td>0</td>\n",
              "      <td>0.0514</td>\n",
              "      <td>0.993</td>\n",
              "      <td>0.0324</td>\n",
              "      <td>0.239</td>\n",
              "      <td>0.802</td>\n",
              "      <td>126.635</td>\n",
              "      <td>3</td>\n",
              "    </tr>\n",
              "    <tr>\n",
              "      <th>6049</th>\n",
              "      <td>Patrinia</td>\n",
              "      <td>0</td>\n",
              "      <td>192747</td>\n",
              "      <td>0</td>\n",
              "      <td>['Roza Eskenazi']</td>\n",
              "      <td>01-01-1930</td>\n",
              "      <td>0.373</td>\n",
              "      <td>0.6040</td>\n",
              "      <td>1</td>\n",
              "      <td>-6.192</td>\n",
              "      <td>1</td>\n",
              "      <td>0.0435</td>\n",
              "      <td>0.926</td>\n",
              "      <td>0.2860</td>\n",
              "      <td>0.142</td>\n",
              "      <td>0.672</td>\n",
              "      <td>112.263</td>\n",
              "      <td>4</td>\n",
              "    </tr>\n",
              "    <tr>\n",
              "      <th>6048</th>\n",
              "      <td>Capítulo 21.2 - el Que Susurraba en la Oscuridad</td>\n",
              "      <td>0</td>\n",
              "      <td>127500</td>\n",
              "      <td>0</td>\n",
              "      <td>['H.P. Lovecraft']</td>\n",
              "      <td>1930</td>\n",
              "      <td>0.635</td>\n",
              "      <td>0.4380</td>\n",
              "      <td>9</td>\n",
              "      <td>-16.186</td>\n",
              "      <td>1</td>\n",
              "      <td>0.9570</td>\n",
              "      <td>0.809</td>\n",
              "      <td>0.0000</td>\n",
              "      <td>0.178</td>\n",
              "      <td>0.695</td>\n",
              "      <td>84.071</td>\n",
              "      <td>4</td>\n",
              "    </tr>\n",
              "  </tbody>\n",
              "</table>\n",
              "</div>"
            ],
            "text/plain": [
              "                                                  name  popularity  \\\n",
              "5061      Rostro Palido - Instrumental (Remasterizado)           0   \n",
              "6058                             Tres Aires Bolivianos           0   \n",
              "6056                            Polle Nihtes Perpatisa           0   \n",
              "6055                       As Pan Na Doun Ta Matia Mou           0   \n",
              "6053                                    L'dovid mizmor           0   \n",
              "6052                       Whip Me With Plenty Of Love           0   \n",
              "6051                       Me thamponoun oi maties sou           0   \n",
              "6050                          Stis Livadias Ton Kafene           0   \n",
              "6049                                          Patrinia           0   \n",
              "6048  Capítulo 21.2 - el Que Susurraba en la Oscuridad           0   \n",
              "\n",
              "      duration_ms  explicit                                     artists  \\\n",
              "5061       164533         0                        ['Francisco Canaro']   \n",
              "6058       211435         0                          ['Banda Española']   \n",
              "6056       189027         0                         ['Dimiris Holevas']   \n",
              "6055       190053         0                       ['Dimitris Mpenetos']   \n",
              "6053       233013         0                               ['Z.Kwartin']   \n",
              "6052       189378         0  ['Clarence Williams & His Washboard Band']   \n",
              "6051       155453         0                   ['Dimitris Pedikopoulos']   \n",
              "6050       182907         0                        ['Dimitris Holevas']   \n",
              "6049       192747         0                           ['Roza Eskenazi']   \n",
              "6048       127500         0                          ['H.P. Lovecraft']   \n",
              "\n",
              "     release_date  danceability  energy  key  loudness  mode  speechiness  \\\n",
              "5061   18-10-1929         0.729  0.1800    4   -13.543     0       0.0867   \n",
              "6058   01-01-1930         0.602  0.4300    0   -12.015     0       0.0972   \n",
              "6056   01-01-1930         0.443  0.6550    8    -5.820     0       0.0402   \n",
              "6055   01-01-1930         0.481  0.4190    8   -10.022     0       0.0503   \n",
              "6053         1930         0.261  0.0889   10   -17.633     0       0.0347   \n",
              "6052   23-04-1930         0.832  0.5910    7    -9.314     1       0.1730   \n",
              "6051   01-01-1930         0.598  0.6430   10    -9.375     1       0.0452   \n",
              "6050   01-01-1930         0.527  0.3200    6    -9.745     0       0.0514   \n",
              "6049   01-01-1930         0.373  0.6040    1    -6.192     1       0.0435   \n",
              "6048         1930         0.635  0.4380    9   -16.186     1       0.9570   \n",
              "\n",
              "      acousticness  instrumentalness  liveness  valence    tempo  \\\n",
              "5061         0.995            0.5960     0.161    0.776  120.215   \n",
              "6058         0.996            0.8240     0.434    0.671   82.546   \n",
              "6056         0.966            0.9140     0.168    0.553  125.637   \n",
              "6055         0.996            0.1990     0.342    0.846  125.581   \n",
              "6053         0.991            0.5000     0.126    0.191  140.977   \n",
              "6052         0.991            0.8540     0.221    0.890  112.360   \n",
              "6051         0.995            0.9320     0.122    0.963   88.479   \n",
              "6050         0.993            0.0324     0.239    0.802  126.635   \n",
              "6049         0.926            0.2860     0.142    0.672  112.263   \n",
              "6048         0.809            0.0000     0.178    0.695   84.071   \n",
              "\n",
              "      time_signature  \n",
              "5061               4  \n",
              "6058               3  \n",
              "6056               3  \n",
              "6055               4  \n",
              "6053               4  \n",
              "6052               4  \n",
              "6051               4  \n",
              "6050               3  \n",
              "6049               4  \n",
              "6048               4  "
            ]
          },
          "execution_count": 224,
          "metadata": {},
          "output_type": "execute_result"
        }
      ],
      "source": [
        "least = tracks.sort_values('popularity', ascending = True).head(10)\n",
        "least"
      ]
    },
    {
      "cell_type": "markdown",
      "id": "162bb50b",
      "metadata": {
        "id": "162bb50b",
        "papermill": {
          "duration": 0.040551,
          "end_time": "2022-04-20T20:11:06.704958",
          "exception": false,
          "start_time": "2022-04-20T20:11:06.664407",
          "status": "completed"
        },
        "tags": []
      },
      "source": [
        "### Changing index to release date"
      ]
    },
    {
      "cell_type": "code",
      "execution_count": 225,
      "id": "e3457653",
      "metadata": {},
      "outputs": [
        {
          "ename": "ValueError",
          "evalue": "unconverted data remains: 22",
          "output_type": "error",
          "traceback": [
            "\u001b[1;31m---------------------------------------------------------------------------\u001b[0m",
            "\u001b[1;31mTypeError\u001b[0m                                 Traceback (most recent call last)",
            "File \u001b[1;32mc:\\Users\\Boudhik Shaj\\AppData\\Local\\Programs\\Python\\Python39\\lib\\site-packages\\pandas\\core\\tools\\datetimes.py:510\u001b[0m, in \u001b[0;36m_to_datetime_with_format\u001b[1;34m(arg, orig_arg, name, tz, fmt, exact, errors, infer_datetime_format)\u001b[0m\n\u001b[0;32m    509\u001b[0m \u001b[39mtry\u001b[39;00m:\n\u001b[1;32m--> 510\u001b[0m     values, tz \u001b[39m=\u001b[39m conversion\u001b[39m.\u001b[39;49mdatetime_to_datetime64(arg)\n\u001b[0;32m    511\u001b[0m     dta \u001b[39m=\u001b[39m DatetimeArray(values, dtype\u001b[39m=\u001b[39mtz_to_dtype(tz))\n",
            "File \u001b[1;32mc:\\Users\\Boudhik Shaj\\AppData\\Local\\Programs\\Python\\Python39\\lib\\site-packages\\pandas\\_libs\\tslibs\\conversion.pyx:360\u001b[0m, in \u001b[0;36mpandas._libs.tslibs.conversion.datetime_to_datetime64\u001b[1;34m()\u001b[0m\n",
            "\u001b[1;31mTypeError\u001b[0m: Unrecognized value type: <class 'str'>",
            "\nDuring handling of the above exception, another exception occurred:\n",
            "\u001b[1;31mValueError\u001b[0m                                Traceback (most recent call last)",
            "\u001b[1;32mb:\\sem 5\\data science\\project\\data-science-project-1\\Spotify_Data_Analysis Project(1).ipynb Cell 17\u001b[0m in \u001b[0;36m<cell line: 1>\u001b[1;34m()\u001b[0m\n\u001b[1;32m----> <a href='vscode-notebook-cell:/b%3A/sem%205/data%20science/project/data-science-project-1/Spotify_Data_Analysis%20Project%281%29.ipynb#X66sZmlsZQ%3D%3D?line=0'>1</a>\u001b[0m tracks[\u001b[39m'\u001b[39m\u001b[39mrelease_date\u001b[39m\u001b[39m'\u001b[39m]\u001b[39m=\u001b[39mpd\u001b[39m.\u001b[39;49mto_datetime(tracks[\u001b[39m\"\u001b[39;49m\u001b[39mrelease_date\u001b[39;49m\u001b[39m\"\u001b[39;49m],\u001b[39mformat\u001b[39;49m\u001b[39m=\u001b[39;49m\u001b[39m\"\u001b[39;49m\u001b[39m%d\u001b[39;49;00m\u001b[39m-\u001b[39;49m\u001b[39m%\u001b[39;49m\u001b[39mm-\u001b[39;49m\u001b[39m%\u001b[39;49m\u001b[39my\u001b[39;49m\u001b[39m\"\u001b[39;49m)\n",
            "File \u001b[1;32mc:\\Users\\Boudhik Shaj\\AppData\\Local\\Programs\\Python\\Python39\\lib\\site-packages\\pandas\\core\\tools\\datetimes.py:1047\u001b[0m, in \u001b[0;36mto_datetime\u001b[1;34m(arg, errors, dayfirst, yearfirst, utc, format, exact, unit, infer_datetime_format, origin, cache)\u001b[0m\n\u001b[0;32m   1045\u001b[0m             result \u001b[39m=\u001b[39m arg\u001b[39m.\u001b[39mtz_localize(tz)\n\u001b[0;32m   1046\u001b[0m \u001b[39melif\u001b[39;00m \u001b[39misinstance\u001b[39m(arg, ABCSeries):\n\u001b[1;32m-> 1047\u001b[0m     cache_array \u001b[39m=\u001b[39m _maybe_cache(arg, \u001b[39mformat\u001b[39;49m, cache, convert_listlike)\n\u001b[0;32m   1048\u001b[0m     \u001b[39mif\u001b[39;00m \u001b[39mnot\u001b[39;00m cache_array\u001b[39m.\u001b[39mempty:\n\u001b[0;32m   1049\u001b[0m         result \u001b[39m=\u001b[39m arg\u001b[39m.\u001b[39mmap(cache_array)\n",
            "File \u001b[1;32mc:\\Users\\Boudhik Shaj\\AppData\\Local\\Programs\\Python\\Python39\\lib\\site-packages\\pandas\\core\\tools\\datetimes.py:197\u001b[0m, in \u001b[0;36m_maybe_cache\u001b[1;34m(arg, format, cache, convert_listlike)\u001b[0m\n\u001b[0;32m    195\u001b[0m unique_dates \u001b[39m=\u001b[39m unique(arg)\n\u001b[0;32m    196\u001b[0m \u001b[39mif\u001b[39;00m \u001b[39mlen\u001b[39m(unique_dates) \u001b[39m<\u001b[39m \u001b[39mlen\u001b[39m(arg):\n\u001b[1;32m--> 197\u001b[0m     cache_dates \u001b[39m=\u001b[39m convert_listlike(unique_dates, \u001b[39mformat\u001b[39;49m)\n\u001b[0;32m    198\u001b[0m     cache_array \u001b[39m=\u001b[39m Series(cache_dates, index\u001b[39m=\u001b[39munique_dates)\n\u001b[0;32m    199\u001b[0m     \u001b[39m# GH#39882 and GH#35888 in case of None and NaT we get duplicates\u001b[39;00m\n",
            "File \u001b[1;32mc:\\Users\\Boudhik Shaj\\AppData\\Local\\Programs\\Python\\Python39\\lib\\site-packages\\pandas\\core\\tools\\datetimes.py:394\u001b[0m, in \u001b[0;36m_convert_listlike_datetimes\u001b[1;34m(arg, format, name, tz, unit, errors, infer_datetime_format, dayfirst, yearfirst, exact)\u001b[0m\n\u001b[0;32m    391\u001b[0m         \u001b[39mformat\u001b[39m \u001b[39m=\u001b[39m \u001b[39mNone\u001b[39;00m\n\u001b[0;32m    393\u001b[0m \u001b[39mif\u001b[39;00m \u001b[39mformat\u001b[39m \u001b[39mis\u001b[39;00m \u001b[39mnot\u001b[39;00m \u001b[39mNone\u001b[39;00m:\n\u001b[1;32m--> 394\u001b[0m     res \u001b[39m=\u001b[39m _to_datetime_with_format(\n\u001b[0;32m    395\u001b[0m         arg, orig_arg, name, tz, \u001b[39mformat\u001b[39;49m, exact, errors, infer_datetime_format\n\u001b[0;32m    396\u001b[0m     )\n\u001b[0;32m    397\u001b[0m     \u001b[39mif\u001b[39;00m res \u001b[39mis\u001b[39;00m \u001b[39mnot\u001b[39;00m \u001b[39mNone\u001b[39;00m:\n\u001b[0;32m    398\u001b[0m         \u001b[39mreturn\u001b[39;00m res\n",
            "File \u001b[1;32mc:\\Users\\Boudhik Shaj\\AppData\\Local\\Programs\\Python\\Python39\\lib\\site-packages\\pandas\\core\\tools\\datetimes.py:514\u001b[0m, in \u001b[0;36m_to_datetime_with_format\u001b[1;34m(arg, orig_arg, name, tz, fmt, exact, errors, infer_datetime_format)\u001b[0m\n\u001b[0;32m    512\u001b[0m     \u001b[39mreturn\u001b[39;00m DatetimeIndex\u001b[39m.\u001b[39m_simple_new(dta, name\u001b[39m=\u001b[39mname)\n\u001b[0;32m    513\u001b[0m \u001b[39mexcept\u001b[39;00m (\u001b[39mValueError\u001b[39;00m, \u001b[39mTypeError\u001b[39;00m):\n\u001b[1;32m--> 514\u001b[0m     \u001b[39mraise\u001b[39;00m err\n",
            "File \u001b[1;32mc:\\Users\\Boudhik Shaj\\AppData\\Local\\Programs\\Python\\Python39\\lib\\site-packages\\pandas\\core\\tools\\datetimes.py:501\u001b[0m, in \u001b[0;36m_to_datetime_with_format\u001b[1;34m(arg, orig_arg, name, tz, fmt, exact, errors, infer_datetime_format)\u001b[0m\n\u001b[0;32m    498\u001b[0m             \u001b[39mreturn\u001b[39;00m _box_as_indexlike(result, utc\u001b[39m=\u001b[39mutc, name\u001b[39m=\u001b[39mname)\n\u001b[0;32m    500\u001b[0m     \u001b[39m# fallback\u001b[39;00m\n\u001b[1;32m--> 501\u001b[0m     res \u001b[39m=\u001b[39m _array_strptime_with_fallback(\n\u001b[0;32m    502\u001b[0m         arg, name, tz, fmt, exact, errors, infer_datetime_format\n\u001b[0;32m    503\u001b[0m     )\n\u001b[0;32m    504\u001b[0m     \u001b[39mreturn\u001b[39;00m res\n\u001b[0;32m    506\u001b[0m \u001b[39mexcept\u001b[39;00m \u001b[39mValueError\u001b[39;00m \u001b[39mas\u001b[39;00m err:\n\u001b[0;32m    507\u001b[0m     \u001b[39m# Fallback to try to convert datetime objects if timezone-aware\u001b[39;00m\n\u001b[0;32m    508\u001b[0m     \u001b[39m#  datetime objects are found without passing `utc=True`\u001b[39;00m\n",
            "File \u001b[1;32mc:\\Users\\Boudhik Shaj\\AppData\\Local\\Programs\\Python\\Python39\\lib\\site-packages\\pandas\\core\\tools\\datetimes.py:437\u001b[0m, in \u001b[0;36m_array_strptime_with_fallback\u001b[1;34m(arg, name, tz, fmt, exact, errors, infer_datetime_format)\u001b[0m\n\u001b[0;32m    434\u001b[0m utc \u001b[39m=\u001b[39m tz \u001b[39m==\u001b[39m \u001b[39m\"\u001b[39m\u001b[39mutc\u001b[39m\u001b[39m\"\u001b[39m\n\u001b[0;32m    436\u001b[0m \u001b[39mtry\u001b[39;00m:\n\u001b[1;32m--> 437\u001b[0m     result, timezones \u001b[39m=\u001b[39m array_strptime(arg, fmt, exact\u001b[39m=\u001b[39;49mexact, errors\u001b[39m=\u001b[39;49merrors)\n\u001b[0;32m    438\u001b[0m     \u001b[39mif\u001b[39;00m \u001b[39m\"\u001b[39m\u001b[39m%\u001b[39m\u001b[39mZ\u001b[39m\u001b[39m\"\u001b[39m \u001b[39min\u001b[39;00m fmt \u001b[39mor\u001b[39;00m \u001b[39m\"\u001b[39m\u001b[39m%\u001b[39m\u001b[39mz\u001b[39m\u001b[39m\"\u001b[39m \u001b[39min\u001b[39;00m fmt:\n\u001b[0;32m    439\u001b[0m         \u001b[39mreturn\u001b[39;00m _return_parsed_timezone_results(result, timezones, tz, name)\n",
            "File \u001b[1;32mc:\\Users\\Boudhik Shaj\\AppData\\Local\\Programs\\Python\\Python39\\lib\\site-packages\\pandas\\_libs\\tslibs\\strptime.pyx:156\u001b[0m, in \u001b[0;36mpandas._libs.tslibs.strptime.array_strptime\u001b[1;34m()\u001b[0m\n",
            "\u001b[1;31mValueError\u001b[0m: unconverted data remains: 22"
          ]
        }
      ],
      "source": [
        "tracks['release_date']=pd.to_datetime(tracks[\"release_date\"],format=\"%d-%m-%y\")"
      ]
    },
    {
      "cell_type": "code",
      "execution_count": null,
      "id": "b07e1695",
      "metadata": {},
      "outputs": [
        {
          "name": "stdout",
          "output_type": "stream",
          "text": [
            "<class 'pandas.core.frame.DataFrame'>\n",
            "RangeIndex: 10124 entries, 0 to 10123\n",
            "Data columns (total 18 columns):\n",
            " #   Column            Non-Null Count  Dtype         \n",
            "---  ------            --------------  -----         \n",
            " 0   name              10124 non-null  object        \n",
            " 1   popularity        10124 non-null  int64         \n",
            " 2   duration_ms       10124 non-null  int64         \n",
            " 3   explicit          10124 non-null  int64         \n",
            " 4   artists           10124 non-null  object        \n",
            " 5   release_date      10124 non-null  datetime64[ns]\n",
            " 6   danceability      10124 non-null  float64       \n",
            " 7   energy            10124 non-null  float64       \n",
            " 8   key               10124 non-null  int64         \n",
            " 9   loudness          10124 non-null  float64       \n",
            " 10  mode              10124 non-null  int64         \n",
            " 11  speechiness       10124 non-null  float64       \n",
            " 12  acousticness      10124 non-null  float64       \n",
            " 13  instrumentalness  10124 non-null  float64       \n",
            " 14  liveness          10124 non-null  float64       \n",
            " 15  valence           10124 non-null  float64       \n",
            " 16  tempo             10124 non-null  float64       \n",
            " 17  time_signature    10124 non-null  int64         \n",
            "dtypes: datetime64[ns](1), float64(9), int64(6), object(2)\n",
            "memory usage: 1.4+ MB\n"
          ]
        }
      ],
      "source": [
        "tracks.info()"
      ]
    },
    {
      "cell_type": "code",
      "execution_count": null,
      "id": "81461432",
      "metadata": {
        "colab": {
          "base_uri": "https://localhost:8080/",
          "height": 406
        },
        "execution": {
          "iopub.execute_input": "2022-04-20T20:11:06.79262Z",
          "iopub.status.busy": "2022-04-20T20:11:06.791846Z",
          "iopub.status.idle": "2022-04-20T20:11:06.976294Z",
          "shell.execute_reply": "2022-04-20T20:11:06.975184Z"
        },
        "id": "81461432",
        "outputId": "2b8a6069-8ddf-4056-9566-d284bb0341fa",
        "papermill": {
          "duration": 0.230906,
          "end_time": "2022-04-20T20:11:06.978563",
          "exception": false,
          "start_time": "2022-04-20T20:11:06.747657",
          "status": "completed"
        },
        "tags": []
      },
      "outputs": [
        {
          "name": "stdout",
          "output_type": "stream",
          "text": [
            "<class 'pandas.core.frame.DataFrame'>\n",
            "DatetimeIndex: 10124 entries, 1922-02-22 00:00:00+00:00 to 1935-01-01 00:00:00+00:00\n",
            "Data columns (total 17 columns):\n",
            " #   Column            Non-Null Count  Dtype  \n",
            "---  ------            --------------  -----  \n",
            " 0   name              10124 non-null  object \n",
            " 1   popularity        10124 non-null  int64  \n",
            " 2   duration_ms       10124 non-null  int64  \n",
            " 3   explicit          10124 non-null  int64  \n",
            " 4   artists           10124 non-null  object \n",
            " 5   danceability      10124 non-null  float64\n",
            " 6   energy            10124 non-null  float64\n",
            " 7   key               10124 non-null  int64  \n",
            " 8   loudness          10124 non-null  float64\n",
            " 9   mode              10124 non-null  int64  \n",
            " 10  speechiness       10124 non-null  float64\n",
            " 11  acousticness      10124 non-null  float64\n",
            " 12  instrumentalness  10124 non-null  float64\n",
            " 13  liveness          10124 non-null  float64\n",
            " 14  valence           10124 non-null  float64\n",
            " 15  tempo             10124 non-null  float64\n",
            " 16  time_signature    10124 non-null  int64  \n",
            "dtypes: float64(9), int64(6), object(2)\n",
            "memory usage: 1.4+ MB\n"
          ]
        },
        {
          "name": "stderr",
          "output_type": "stream",
          "text": [
            "c:\\Users\\Boudhik Shaj\\AppData\\Local\\Programs\\Python\\Python39\\lib\\site-packages\\pandas\\core\\tools\\datetimes.py:1056: UserWarning: Parsing '22-02-1922' in DD/MM/YYYY format. Provide format or specify infer_datetime_format=True for consistent parsing.\n",
            "  cache_array = _maybe_cache(arg, format, cache, convert_listlike)\n",
            "c:\\Users\\Boudhik Shaj\\AppData\\Local\\Programs\\Python\\Python39\\lib\\site-packages\\pandas\\core\\tools\\datetimes.py:1056: UserWarning: Parsing '21-03-1922' in DD/MM/YYYY format. Provide format or specify infer_datetime_format=True for consistent parsing.\n",
            "  cache_array = _maybe_cache(arg, format, cache, convert_listlike)\n",
            "c:\\Users\\Boudhik Shaj\\AppData\\Local\\Programs\\Python\\Python39\\lib\\site-packages\\pandas\\core\\tools\\datetimes.py:1056: UserWarning: Parsing '29-03-1922' in DD/MM/YYYY format. Provide format or specify infer_datetime_format=True for consistent parsing.\n",
            "  cache_array = _maybe_cache(arg, format, cache, convert_listlike)\n",
            "c:\\Users\\Boudhik Shaj\\AppData\\Local\\Programs\\Python\\Python39\\lib\\site-packages\\pandas\\core\\tools\\datetimes.py:1056: UserWarning: Parsing '27-12-1923' in DD/MM/YYYY format. Provide format or specify infer_datetime_format=True for consistent parsing.\n",
            "  cache_array = _maybe_cache(arg, format, cache, convert_listlike)\n",
            "c:\\Users\\Boudhik Shaj\\AppData\\Local\\Programs\\Python\\Python39\\lib\\site-packages\\pandas\\core\\tools\\datetimes.py:1056: UserWarning: Parsing '29-03-1923' in DD/MM/YYYY format. Provide format or specify infer_datetime_format=True for consistent parsing.\n",
            "  cache_array = _maybe_cache(arg, format, cache, convert_listlike)\n",
            "c:\\Users\\Boudhik Shaj\\AppData\\Local\\Programs\\Python\\Python39\\lib\\site-packages\\pandas\\core\\tools\\datetimes.py:1056: UserWarning: Parsing '18-12-1923' in DD/MM/YYYY format. Provide format or specify infer_datetime_format=True for consistent parsing.\n",
            "  cache_array = _maybe_cache(arg, format, cache, convert_listlike)\n",
            "c:\\Users\\Boudhik Shaj\\AppData\\Local\\Programs\\Python\\Python39\\lib\\site-packages\\pandas\\core\\tools\\datetimes.py:1056: UserWarning: Parsing '26-02-1923' in DD/MM/YYYY format. Provide format or specify infer_datetime_format=True for consistent parsing.\n",
            "  cache_array = _maybe_cache(arg, format, cache, convert_listlike)\n",
            "c:\\Users\\Boudhik Shaj\\AppData\\Local\\Programs\\Python\\Python39\\lib\\site-packages\\pandas\\core\\tools\\datetimes.py:1056: UserWarning: Parsing '25-03-1923' in DD/MM/YYYY format. Provide format or specify infer_datetime_format=True for consistent parsing.\n",
            "  cache_array = _maybe_cache(arg, format, cache, convert_listlike)\n",
            "c:\\Users\\Boudhik Shaj\\AppData\\Local\\Programs\\Python\\Python39\\lib\\site-packages\\pandas\\core\\tools\\datetimes.py:1056: UserWarning: Parsing '29-03-1924' in DD/MM/YYYY format. Provide format or specify infer_datetime_format=True for consistent parsing.\n",
            "  cache_array = _maybe_cache(arg, format, cache, convert_listlike)\n",
            "c:\\Users\\Boudhik Shaj\\AppData\\Local\\Programs\\Python\\Python39\\lib\\site-packages\\pandas\\core\\tools\\datetimes.py:1056: UserWarning: Parsing '31-08-1924' in DD/MM/YYYY format. Provide format or specify infer_datetime_format=True for consistent parsing.\n",
            "  cache_array = _maybe_cache(arg, format, cache, convert_listlike)\n",
            "c:\\Users\\Boudhik Shaj\\AppData\\Local\\Programs\\Python\\Python39\\lib\\site-packages\\pandas\\core\\tools\\datetimes.py:1056: UserWarning: Parsing '18-12-1924' in DD/MM/YYYY format. Provide format or specify infer_datetime_format=True for consistent parsing.\n",
            "  cache_array = _maybe_cache(arg, format, cache, convert_listlike)\n",
            "c:\\Users\\Boudhik Shaj\\AppData\\Local\\Programs\\Python\\Python39\\lib\\site-packages\\pandas\\core\\tools\\datetimes.py:1056: UserWarning: Parsing '31-12-1924' in DD/MM/YYYY format. Provide format or specify infer_datetime_format=True for consistent parsing.\n",
            "  cache_array = _maybe_cache(arg, format, cache, convert_listlike)\n",
            "c:\\Users\\Boudhik Shaj\\AppData\\Local\\Programs\\Python\\Python39\\lib\\site-packages\\pandas\\core\\tools\\datetimes.py:1056: UserWarning: Parsing '27-12-1924' in DD/MM/YYYY format. Provide format or specify infer_datetime_format=True for consistent parsing.\n",
            "  cache_array = _maybe_cache(arg, format, cache, convert_listlike)\n",
            "c:\\Users\\Boudhik Shaj\\AppData\\Local\\Programs\\Python\\Python39\\lib\\site-packages\\pandas\\core\\tools\\datetimes.py:1056: UserWarning: Parsing '24-03-1925' in DD/MM/YYYY format. Provide format or specify infer_datetime_format=True for consistent parsing.\n",
            "  cache_array = _maybe_cache(arg, format, cache, convert_listlike)\n",
            "c:\\Users\\Boudhik Shaj\\AppData\\Local\\Programs\\Python\\Python39\\lib\\site-packages\\pandas\\core\\tools\\datetimes.py:1056: UserWarning: Parsing '25-04-1925' in DD/MM/YYYY format. Provide format or specify infer_datetime_format=True for consistent parsing.\n",
            "  cache_array = _maybe_cache(arg, format, cache, convert_listlike)\n",
            "c:\\Users\\Boudhik Shaj\\AppData\\Local\\Programs\\Python\\Python39\\lib\\site-packages\\pandas\\core\\tools\\datetimes.py:1056: UserWarning: Parsing '28-04-1925' in DD/MM/YYYY format. Provide format or specify infer_datetime_format=True for consistent parsing.\n",
            "  cache_array = _maybe_cache(arg, format, cache, convert_listlike)\n",
            "c:\\Users\\Boudhik Shaj\\AppData\\Local\\Programs\\Python\\Python39\\lib\\site-packages\\pandas\\core\\tools\\datetimes.py:1056: UserWarning: Parsing '15-07-1926' in DD/MM/YYYY format. Provide format or specify infer_datetime_format=True for consistent parsing.\n",
            "  cache_array = _maybe_cache(arg, format, cache, convert_listlike)\n",
            "c:\\Users\\Boudhik Shaj\\AppData\\Local\\Programs\\Python\\Python39\\lib\\site-packages\\pandas\\core\\tools\\datetimes.py:1056: UserWarning: Parsing '15-08-1926' in DD/MM/YYYY format. Provide format or specify infer_datetime_format=True for consistent parsing.\n",
            "  cache_array = _maybe_cache(arg, format, cache, convert_listlike)\n",
            "c:\\Users\\Boudhik Shaj\\AppData\\Local\\Programs\\Python\\Python39\\lib\\site-packages\\pandas\\core\\tools\\datetimes.py:1056: UserWarning: Parsing '14-05-1926' in DD/MM/YYYY format. Provide format or specify infer_datetime_format=True for consistent parsing.\n",
            "  cache_array = _maybe_cache(arg, format, cache, convert_listlike)\n",
            "c:\\Users\\Boudhik Shaj\\AppData\\Local\\Programs\\Python\\Python39\\lib\\site-packages\\pandas\\core\\tools\\datetimes.py:1056: UserWarning: Parsing '25-04-1926' in DD/MM/YYYY format. Provide format or specify infer_datetime_format=True for consistent parsing.\n",
            "  cache_array = _maybe_cache(arg, format, cache, convert_listlike)\n",
            "c:\\Users\\Boudhik Shaj\\AppData\\Local\\Programs\\Python\\Python39\\lib\\site-packages\\pandas\\core\\tools\\datetimes.py:1056: UserWarning: Parsing '16-04-1926' in DD/MM/YYYY format. Provide format or specify infer_datetime_format=True for consistent parsing.\n",
            "  cache_array = _maybe_cache(arg, format, cache, convert_listlike)\n",
            "c:\\Users\\Boudhik Shaj\\AppData\\Local\\Programs\\Python\\Python39\\lib\\site-packages\\pandas\\core\\tools\\datetimes.py:1056: UserWarning: Parsing '26-06-1927' in DD/MM/YYYY format. Provide format or specify infer_datetime_format=True for consistent parsing.\n",
            "  cache_array = _maybe_cache(arg, format, cache, convert_listlike)\n",
            "c:\\Users\\Boudhik Shaj\\AppData\\Local\\Programs\\Python\\Python39\\lib\\site-packages\\pandas\\core\\tools\\datetimes.py:1056: UserWarning: Parsing '14-05-1927' in DD/MM/YYYY format. Provide format or specify infer_datetime_format=True for consistent parsing.\n",
            "  cache_array = _maybe_cache(arg, format, cache, convert_listlike)\n",
            "c:\\Users\\Boudhik Shaj\\AppData\\Local\\Programs\\Python\\Python39\\lib\\site-packages\\pandas\\core\\tools\\datetimes.py:1056: UserWarning: Parsing '16-08-1927' in DD/MM/YYYY format. Provide format or specify infer_datetime_format=True for consistent parsing.\n",
            "  cache_array = _maybe_cache(arg, format, cache, convert_listlike)\n",
            "c:\\Users\\Boudhik Shaj\\AppData\\Local\\Programs\\Python\\Python39\\lib\\site-packages\\pandas\\core\\tools\\datetimes.py:1056: UserWarning: Parsing '26-08-1927' in DD/MM/YYYY format. Provide format or specify infer_datetime_format=True for consistent parsing.\n",
            "  cache_array = _maybe_cache(arg, format, cache, convert_listlike)\n",
            "c:\\Users\\Boudhik Shaj\\AppData\\Local\\Programs\\Python\\Python39\\lib\\site-packages\\pandas\\core\\tools\\datetimes.py:1056: UserWarning: Parsing '29-07-1927' in DD/MM/YYYY format. Provide format or specify infer_datetime_format=True for consistent parsing.\n",
            "  cache_array = _maybe_cache(arg, format, cache, convert_listlike)\n",
            "c:\\Users\\Boudhik Shaj\\AppData\\Local\\Programs\\Python\\Python39\\lib\\site-packages\\pandas\\core\\tools\\datetimes.py:1056: UserWarning: Parsing '17-09-1927' in DD/MM/YYYY format. Provide format or specify infer_datetime_format=True for consistent parsing.\n",
            "  cache_array = _maybe_cache(arg, format, cache, convert_listlike)\n",
            "c:\\Users\\Boudhik Shaj\\AppData\\Local\\Programs\\Python\\Python39\\lib\\site-packages\\pandas\\core\\tools\\datetimes.py:1056: UserWarning: Parsing '20-08-1927' in DD/MM/YYYY format. Provide format or specify infer_datetime_format=True for consistent parsing.\n",
            "  cache_array = _maybe_cache(arg, format, cache, convert_listlike)\n",
            "c:\\Users\\Boudhik Shaj\\AppData\\Local\\Programs\\Python\\Python39\\lib\\site-packages\\pandas\\core\\tools\\datetimes.py:1056: UserWarning: Parsing '16-09-1927' in DD/MM/YYYY format. Provide format or specify infer_datetime_format=True for consistent parsing.\n",
            "  cache_array = _maybe_cache(arg, format, cache, convert_listlike)\n",
            "c:\\Users\\Boudhik Shaj\\AppData\\Local\\Programs\\Python\\Python39\\lib\\site-packages\\pandas\\core\\tools\\datetimes.py:1056: UserWarning: Parsing '23-08-1927' in DD/MM/YYYY format. Provide format or specify infer_datetime_format=True for consistent parsing.\n",
            "  cache_array = _maybe_cache(arg, format, cache, convert_listlike)\n",
            "c:\\Users\\Boudhik Shaj\\AppData\\Local\\Programs\\Python\\Python39\\lib\\site-packages\\pandas\\core\\tools\\datetimes.py:1056: UserWarning: Parsing '28-05-1927' in DD/MM/YYYY format. Provide format or specify infer_datetime_format=True for consistent parsing.\n",
            "  cache_array = _maybe_cache(arg, format, cache, convert_listlike)\n",
            "c:\\Users\\Boudhik Shaj\\AppData\\Local\\Programs\\Python\\Python39\\lib\\site-packages\\pandas\\core\\tools\\datetimes.py:1056: UserWarning: Parsing '14-06-1927' in DD/MM/YYYY format. Provide format or specify infer_datetime_format=True for consistent parsing.\n",
            "  cache_array = _maybe_cache(arg, format, cache, convert_listlike)\n",
            "c:\\Users\\Boudhik Shaj\\AppData\\Local\\Programs\\Python\\Python39\\lib\\site-packages\\pandas\\core\\tools\\datetimes.py:1056: UserWarning: Parsing '16-09-1928' in DD/MM/YYYY format. Provide format or specify infer_datetime_format=True for consistent parsing.\n",
            "  cache_array = _maybe_cache(arg, format, cache, convert_listlike)\n",
            "c:\\Users\\Boudhik Shaj\\AppData\\Local\\Programs\\Python\\Python39\\lib\\site-packages\\pandas\\core\\tools\\datetimes.py:1056: UserWarning: Parsing '14-05-1928' in DD/MM/YYYY format. Provide format or specify infer_datetime_format=True for consistent parsing.\n",
            "  cache_array = _maybe_cache(arg, format, cache, convert_listlike)\n",
            "c:\\Users\\Boudhik Shaj\\AppData\\Local\\Programs\\Python\\Python39\\lib\\site-packages\\pandas\\core\\tools\\datetimes.py:1056: UserWarning: Parsing '25-09-1928' in DD/MM/YYYY format. Provide format or specify infer_datetime_format=True for consistent parsing.\n",
            "  cache_array = _maybe_cache(arg, format, cache, convert_listlike)\n",
            "c:\\Users\\Boudhik Shaj\\AppData\\Local\\Programs\\Python\\Python39\\lib\\site-packages\\pandas\\core\\tools\\datetimes.py:1056: UserWarning: Parsing '24-09-1928' in DD/MM/YYYY format. Provide format or specify infer_datetime_format=True for consistent parsing.\n",
            "  cache_array = _maybe_cache(arg, format, cache, convert_listlike)\n",
            "c:\\Users\\Boudhik Shaj\\AppData\\Local\\Programs\\Python\\Python39\\lib\\site-packages\\pandas\\core\\tools\\datetimes.py:1056: UserWarning: Parsing '17-09-1928' in DD/MM/YYYY format. Provide format or specify infer_datetime_format=True for consistent parsing.\n",
            "  cache_array = _maybe_cache(arg, format, cache, convert_listlike)\n",
            "c:\\Users\\Boudhik Shaj\\AppData\\Local\\Programs\\Python\\Python39\\lib\\site-packages\\pandas\\core\\tools\\datetimes.py:1056: UserWarning: Parsing '20-08-1928' in DD/MM/YYYY format. Provide format or specify infer_datetime_format=True for consistent parsing.\n",
            "  cache_array = _maybe_cache(arg, format, cache, convert_listlike)\n",
            "c:\\Users\\Boudhik Shaj\\AppData\\Local\\Programs\\Python\\Python39\\lib\\site-packages\\pandas\\core\\tools\\datetimes.py:1056: UserWarning: Parsing '13-08-1928' in DD/MM/YYYY format. Provide format or specify infer_datetime_format=True for consistent parsing.\n",
            "  cache_array = _maybe_cache(arg, format, cache, convert_listlike)\n",
            "c:\\Users\\Boudhik Shaj\\AppData\\Local\\Programs\\Python\\Python39\\lib\\site-packages\\pandas\\core\\tools\\datetimes.py:1056: UserWarning: Parsing '20-06-1928' in DD/MM/YYYY format. Provide format or specify infer_datetime_format=True for consistent parsing.\n",
            "  cache_array = _maybe_cache(arg, format, cache, convert_listlike)\n",
            "c:\\Users\\Boudhik Shaj\\AppData\\Local\\Programs\\Python\\Python39\\lib\\site-packages\\pandas\\core\\tools\\datetimes.py:1056: UserWarning: Parsing '21-09-1928' in DD/MM/YYYY format. Provide format or specify infer_datetime_format=True for consistent parsing.\n",
            "  cache_array = _maybe_cache(arg, format, cache, convert_listlike)\n",
            "c:\\Users\\Boudhik Shaj\\AppData\\Local\\Programs\\Python\\Python39\\lib\\site-packages\\pandas\\core\\tools\\datetimes.py:1056: UserWarning: Parsing '20-09-1928' in DD/MM/YYYY format. Provide format or specify infer_datetime_format=True for consistent parsing.\n",
            "  cache_array = _maybe_cache(arg, format, cache, convert_listlike)\n",
            "c:\\Users\\Boudhik Shaj\\AppData\\Local\\Programs\\Python\\Python39\\lib\\site-packages\\pandas\\core\\tools\\datetimes.py:1056: UserWarning: Parsing '19-06-1929' in DD/MM/YYYY format. Provide format or specify infer_datetime_format=True for consistent parsing.\n",
            "  cache_array = _maybe_cache(arg, format, cache, convert_listlike)\n",
            "c:\\Users\\Boudhik Shaj\\AppData\\Local\\Programs\\Python\\Python39\\lib\\site-packages\\pandas\\core\\tools\\datetimes.py:1056: UserWarning: Parsing '31-12-1929' in DD/MM/YYYY format. Provide format or specify infer_datetime_format=True for consistent parsing.\n",
            "  cache_array = _maybe_cache(arg, format, cache, convert_listlike)\n",
            "c:\\Users\\Boudhik Shaj\\AppData\\Local\\Programs\\Python\\Python39\\lib\\site-packages\\pandas\\core\\tools\\datetimes.py:1056: UserWarning: Parsing '22-10-1929' in DD/MM/YYYY format. Provide format or specify infer_datetime_format=True for consistent parsing.\n",
            "  cache_array = _maybe_cache(arg, format, cache, convert_listlike)\n",
            "c:\\Users\\Boudhik Shaj\\AppData\\Local\\Programs\\Python\\Python39\\lib\\site-packages\\pandas\\core\\tools\\datetimes.py:1056: UserWarning: Parsing '15-10-1929' in DD/MM/YYYY format. Provide format or specify infer_datetime_format=True for consistent parsing.\n",
            "  cache_array = _maybe_cache(arg, format, cache, convert_listlike)\n",
            "c:\\Users\\Boudhik Shaj\\AppData\\Local\\Programs\\Python\\Python39\\lib\\site-packages\\pandas\\core\\tools\\datetimes.py:1056: UserWarning: Parsing '31-10-1929' in DD/MM/YYYY format. Provide format or specify infer_datetime_format=True for consistent parsing.\n",
            "  cache_array = _maybe_cache(arg, format, cache, convert_listlike)\n",
            "c:\\Users\\Boudhik Shaj\\AppData\\Local\\Programs\\Python\\Python39\\lib\\site-packages\\pandas\\core\\tools\\datetimes.py:1056: UserWarning: Parsing '18-10-1929' in DD/MM/YYYY format. Provide format or specify infer_datetime_format=True for consistent parsing.\n",
            "  cache_array = _maybe_cache(arg, format, cache, convert_listlike)\n",
            "c:\\Users\\Boudhik Shaj\\AppData\\Local\\Programs\\Python\\Python39\\lib\\site-packages\\pandas\\core\\tools\\datetimes.py:1056: UserWarning: Parsing '17-10-1929' in DD/MM/YYYY format. Provide format or specify infer_datetime_format=True for consistent parsing.\n",
            "  cache_array = _maybe_cache(arg, format, cache, convert_listlike)\n",
            "c:\\Users\\Boudhik Shaj\\AppData\\Local\\Programs\\Python\\Python39\\lib\\site-packages\\pandas\\core\\tools\\datetimes.py:1056: UserWarning: Parsing '24-10-1929' in DD/MM/YYYY format. Provide format or specify infer_datetime_format=True for consistent parsing.\n",
            "  cache_array = _maybe_cache(arg, format, cache, convert_listlike)\n",
            "c:\\Users\\Boudhik Shaj\\AppData\\Local\\Programs\\Python\\Python39\\lib\\site-packages\\pandas\\core\\tools\\datetimes.py:1056: UserWarning: Parsing '21-06-1929' in DD/MM/YYYY format. Provide format or specify infer_datetime_format=True for consistent parsing.\n",
            "  cache_array = _maybe_cache(arg, format, cache, convert_listlike)\n",
            "c:\\Users\\Boudhik Shaj\\AppData\\Local\\Programs\\Python\\Python39\\lib\\site-packages\\pandas\\core\\tools\\datetimes.py:1056: UserWarning: Parsing '20-06-1929' in DD/MM/YYYY format. Provide format or specify infer_datetime_format=True for consistent parsing.\n",
            "  cache_array = _maybe_cache(arg, format, cache, convert_listlike)\n",
            "c:\\Users\\Boudhik Shaj\\AppData\\Local\\Programs\\Python\\Python39\\lib\\site-packages\\pandas\\core\\tools\\datetimes.py:1056: UserWarning: Parsing '13-05-1929' in DD/MM/YYYY format. Provide format or specify infer_datetime_format=True for consistent parsing.\n",
            "  cache_array = _maybe_cache(arg, format, cache, convert_listlike)\n",
            "c:\\Users\\Boudhik Shaj\\AppData\\Local\\Programs\\Python\\Python39\\lib\\site-packages\\pandas\\core\\tools\\datetimes.py:1056: UserWarning: Parsing '17-04-1929' in DD/MM/YYYY format. Provide format or specify infer_datetime_format=True for consistent parsing.\n",
            "  cache_array = _maybe_cache(arg, format, cache, convert_listlike)\n",
            "c:\\Users\\Boudhik Shaj\\AppData\\Local\\Programs\\Python\\Python39\\lib\\site-packages\\pandas\\core\\tools\\datetimes.py:1056: UserWarning: Parsing '17-12-1929' in DD/MM/YYYY format. Provide format or specify infer_datetime_format=True for consistent parsing.\n",
            "  cache_array = _maybe_cache(arg, format, cache, convert_listlike)\n",
            "c:\\Users\\Boudhik Shaj\\AppData\\Local\\Programs\\Python\\Python39\\lib\\site-packages\\pandas\\core\\tools\\datetimes.py:1056: UserWarning: Parsing '18-08-1930' in DD/MM/YYYY format. Provide format or specify infer_datetime_format=True for consistent parsing.\n",
            "  cache_array = _maybe_cache(arg, format, cache, convert_listlike)\n",
            "c:\\Users\\Boudhik Shaj\\AppData\\Local\\Programs\\Python\\Python39\\lib\\site-packages\\pandas\\core\\tools\\datetimes.py:1056: UserWarning: Parsing '14-06-1930' in DD/MM/YYYY format. Provide format or specify infer_datetime_format=True for consistent parsing.\n",
            "  cache_array = _maybe_cache(arg, format, cache, convert_listlike)\n",
            "c:\\Users\\Boudhik Shaj\\AppData\\Local\\Programs\\Python\\Python39\\lib\\site-packages\\pandas\\core\\tools\\datetimes.py:1056: UserWarning: Parsing '21-06-1930' in DD/MM/YYYY format. Provide format or specify infer_datetime_format=True for consistent parsing.\n",
            "  cache_array = _maybe_cache(arg, format, cache, convert_listlike)\n",
            "c:\\Users\\Boudhik Shaj\\AppData\\Local\\Programs\\Python\\Python39\\lib\\site-packages\\pandas\\core\\tools\\datetimes.py:1056: UserWarning: Parsing '15-03-1930' in DD/MM/YYYY format. Provide format or specify infer_datetime_format=True for consistent parsing.\n",
            "  cache_array = _maybe_cache(arg, format, cache, convert_listlike)\n",
            "c:\\Users\\Boudhik Shaj\\AppData\\Local\\Programs\\Python\\Python39\\lib\\site-packages\\pandas\\core\\tools\\datetimes.py:1056: UserWarning: Parsing '20-11-1930' in DD/MM/YYYY format. Provide format or specify infer_datetime_format=True for consistent parsing.\n",
            "  cache_array = _maybe_cache(arg, format, cache, convert_listlike)\n",
            "c:\\Users\\Boudhik Shaj\\AppData\\Local\\Programs\\Python\\Python39\\lib\\site-packages\\pandas\\core\\tools\\datetimes.py:1056: UserWarning: Parsing '31-12-1930' in DD/MM/YYYY format. Provide format or specify infer_datetime_format=True for consistent parsing.\n",
            "  cache_array = _maybe_cache(arg, format, cache, convert_listlike)\n",
            "c:\\Users\\Boudhik Shaj\\AppData\\Local\\Programs\\Python\\Python39\\lib\\site-packages\\pandas\\core\\tools\\datetimes.py:1056: UserWarning: Parsing '28-02-1930' in DD/MM/YYYY format. Provide format or specify infer_datetime_format=True for consistent parsing.\n",
            "  cache_array = _maybe_cache(arg, format, cache, convert_listlike)\n",
            "c:\\Users\\Boudhik Shaj\\AppData\\Local\\Programs\\Python\\Python39\\lib\\site-packages\\pandas\\core\\tools\\datetimes.py:1056: UserWarning: Parsing '16-11-1930' in DD/MM/YYYY format. Provide format or specify infer_datetime_format=True for consistent parsing.\n",
            "  cache_array = _maybe_cache(arg, format, cache, convert_listlike)\n",
            "c:\\Users\\Boudhik Shaj\\AppData\\Local\\Programs\\Python\\Python39\\lib\\site-packages\\pandas\\core\\tools\\datetimes.py:1056: UserWarning: Parsing '23-04-1930' in DD/MM/YYYY format. Provide format or specify infer_datetime_format=True for consistent parsing.\n",
            "  cache_array = _maybe_cache(arg, format, cache, convert_listlike)\n",
            "c:\\Users\\Boudhik Shaj\\AppData\\Local\\Programs\\Python\\Python39\\lib\\site-packages\\pandas\\core\\tools\\datetimes.py:1056: UserWarning: Parsing '20-06-1930' in DD/MM/YYYY format. Provide format or specify infer_datetime_format=True for consistent parsing.\n",
            "  cache_array = _maybe_cache(arg, format, cache, convert_listlike)\n",
            "c:\\Users\\Boudhik Shaj\\AppData\\Local\\Programs\\Python\\Python39\\lib\\site-packages\\pandas\\core\\tools\\datetimes.py:1056: UserWarning: Parsing '29-05-1930' in DD/MM/YYYY format. Provide format or specify infer_datetime_format=True for consistent parsing.\n",
            "  cache_array = _maybe_cache(arg, format, cache, convert_listlike)\n",
            "c:\\Users\\Boudhik Shaj\\AppData\\Local\\Programs\\Python\\Python39\\lib\\site-packages\\pandas\\core\\tools\\datetimes.py:1056: UserWarning: Parsing '13-11-1930' in DD/MM/YYYY format. Provide format or specify infer_datetime_format=True for consistent parsing.\n",
            "  cache_array = _maybe_cache(arg, format, cache, convert_listlike)\n",
            "c:\\Users\\Boudhik Shaj\\AppData\\Local\\Programs\\Python\\Python39\\lib\\site-packages\\pandas\\core\\tools\\datetimes.py:1056: UserWarning: Parsing '16-04-1931' in DD/MM/YYYY format. Provide format or specify infer_datetime_format=True for consistent parsing.\n",
            "  cache_array = _maybe_cache(arg, format, cache, convert_listlike)\n",
            "c:\\Users\\Boudhik Shaj\\AppData\\Local\\Programs\\Python\\Python39\\lib\\site-packages\\pandas\\core\\tools\\datetimes.py:1056: UserWarning: Parsing '25-06-1931' in DD/MM/YYYY format. Provide format or specify infer_datetime_format=True for consistent parsing.\n",
            "  cache_array = _maybe_cache(arg, format, cache, convert_listlike)\n",
            "c:\\Users\\Boudhik Shaj\\AppData\\Local\\Programs\\Python\\Python39\\lib\\site-packages\\pandas\\core\\tools\\datetimes.py:1056: UserWarning: Parsing '14-12-1931' in DD/MM/YYYY format. Provide format or specify infer_datetime_format=True for consistent parsing.\n",
            "  cache_array = _maybe_cache(arg, format, cache, convert_listlike)\n",
            "c:\\Users\\Boudhik Shaj\\AppData\\Local\\Programs\\Python\\Python39\\lib\\site-packages\\pandas\\core\\tools\\datetimes.py:1056: UserWarning: Parsing '13-04-1931' in DD/MM/YYYY format. Provide format or specify infer_datetime_format=True for consistent parsing.\n",
            "  cache_array = _maybe_cache(arg, format, cache, convert_listlike)\n",
            "c:\\Users\\Boudhik Shaj\\AppData\\Local\\Programs\\Python\\Python39\\lib\\site-packages\\pandas\\core\\tools\\datetimes.py:1056: UserWarning: Parsing '30-03-1931' in DD/MM/YYYY format. Provide format or specify infer_datetime_format=True for consistent parsing.\n",
            "  cache_array = _maybe_cache(arg, format, cache, convert_listlike)\n",
            "c:\\Users\\Boudhik Shaj\\AppData\\Local\\Programs\\Python\\Python39\\lib\\site-packages\\pandas\\core\\tools\\datetimes.py:1056: UserWarning: Parsing '23-03-1931' in DD/MM/YYYY format. Provide format or specify infer_datetime_format=True for consistent parsing.\n",
            "  cache_array = _maybe_cache(arg, format, cache, convert_listlike)\n",
            "c:\\Users\\Boudhik Shaj\\AppData\\Local\\Programs\\Python\\Python39\\lib\\site-packages\\pandas\\core\\tools\\datetimes.py:1056: UserWarning: Parsing '19-12-1932' in DD/MM/YYYY format. Provide format or specify infer_datetime_format=True for consistent parsing.\n",
            "  cache_array = _maybe_cache(arg, format, cache, convert_listlike)\n",
            "c:\\Users\\Boudhik Shaj\\AppData\\Local\\Programs\\Python\\Python39\\lib\\site-packages\\pandas\\core\\tools\\datetimes.py:1056: UserWarning: Parsing '26-12-1932' in DD/MM/YYYY format. Provide format or specify infer_datetime_format=True for consistent parsing.\n",
            "  cache_array = _maybe_cache(arg, format, cache, convert_listlike)\n",
            "c:\\Users\\Boudhik Shaj\\AppData\\Local\\Programs\\Python\\Python39\\lib\\site-packages\\pandas\\core\\tools\\datetimes.py:1056: UserWarning: Parsing '23-12-1932' in DD/MM/YYYY format. Provide format or specify infer_datetime_format=True for consistent parsing.\n",
            "  cache_array = _maybe_cache(arg, format, cache, convert_listlike)\n",
            "c:\\Users\\Boudhik Shaj\\AppData\\Local\\Programs\\Python\\Python39\\lib\\site-packages\\pandas\\core\\tools\\datetimes.py:1056: UserWarning: Parsing '25-06-1932' in DD/MM/YYYY format. Provide format or specify infer_datetime_format=True for consistent parsing.\n",
            "  cache_array = _maybe_cache(arg, format, cache, convert_listlike)\n",
            "c:\\Users\\Boudhik Shaj\\AppData\\Local\\Programs\\Python\\Python39\\lib\\site-packages\\pandas\\core\\tools\\datetimes.py:1056: UserWarning: Parsing '25-04-1932' in DD/MM/YYYY format. Provide format or specify infer_datetime_format=True for consistent parsing.\n",
            "  cache_array = _maybe_cache(arg, format, cache, convert_listlike)\n",
            "c:\\Users\\Boudhik Shaj\\AppData\\Local\\Programs\\Python\\Python39\\lib\\site-packages\\pandas\\core\\tools\\datetimes.py:1056: UserWarning: Parsing '31-12-1932' in DD/MM/YYYY format. Provide format or specify infer_datetime_format=True for consistent parsing.\n",
            "  cache_array = _maybe_cache(arg, format, cache, convert_listlike)\n",
            "c:\\Users\\Boudhik Shaj\\AppData\\Local\\Programs\\Python\\Python39\\lib\\site-packages\\pandas\\core\\tools\\datetimes.py:1056: UserWarning: Parsing '16-04-1932' in DD/MM/YYYY format. Provide format or specify infer_datetime_format=True for consistent parsing.\n",
            "  cache_array = _maybe_cache(arg, format, cache, convert_listlike)\n",
            "c:\\Users\\Boudhik Shaj\\AppData\\Local\\Programs\\Python\\Python39\\lib\\site-packages\\pandas\\core\\tools\\datetimes.py:1056: UserWarning: Parsing '17-04-1932' in DD/MM/YYYY format. Provide format or specify infer_datetime_format=True for consistent parsing.\n",
            "  cache_array = _maybe_cache(arg, format, cache, convert_listlike)\n",
            "c:\\Users\\Boudhik Shaj\\AppData\\Local\\Programs\\Python\\Python39\\lib\\site-packages\\pandas\\core\\tools\\datetimes.py:1056: UserWarning: Parsing '16-02-1932' in DD/MM/YYYY format. Provide format or specify infer_datetime_format=True for consistent parsing.\n",
            "  cache_array = _maybe_cache(arg, format, cache, convert_listlike)\n",
            "c:\\Users\\Boudhik Shaj\\AppData\\Local\\Programs\\Python\\Python39\\lib\\site-packages\\pandas\\core\\tools\\datetimes.py:1056: UserWarning: Parsing '26-06-1933' in DD/MM/YYYY format. Provide format or specify infer_datetime_format=True for consistent parsing.\n",
            "  cache_array = _maybe_cache(arg, format, cache, convert_listlike)\n",
            "c:\\Users\\Boudhik Shaj\\AppData\\Local\\Programs\\Python\\Python39\\lib\\site-packages\\pandas\\core\\tools\\datetimes.py:1056: UserWarning: Parsing '29-09-1933' in DD/MM/YYYY format. Provide format or specify infer_datetime_format=True for consistent parsing.\n",
            "  cache_array = _maybe_cache(arg, format, cache, convert_listlike)\n",
            "c:\\Users\\Boudhik Shaj\\AppData\\Local\\Programs\\Python\\Python39\\lib\\site-packages\\pandas\\core\\tools\\datetimes.py:1056: UserWarning: Parsing '26-12-1933' in DD/MM/YYYY format. Provide format or specify infer_datetime_format=True for consistent parsing.\n",
            "  cache_array = _maybe_cache(arg, format, cache, convert_listlike)\n",
            "c:\\Users\\Boudhik Shaj\\AppData\\Local\\Programs\\Python\\Python39\\lib\\site-packages\\pandas\\core\\tools\\datetimes.py:1056: UserWarning: Parsing '31-12-1933' in DD/MM/YYYY format. Provide format or specify infer_datetime_format=True for consistent parsing.\n",
            "  cache_array = _maybe_cache(arg, format, cache, convert_listlike)\n",
            "c:\\Users\\Boudhik Shaj\\AppData\\Local\\Programs\\Python\\Python39\\lib\\site-packages\\pandas\\core\\tools\\datetimes.py:1056: UserWarning: Parsing '24-08-1933' in DD/MM/YYYY format. Provide format or specify infer_datetime_format=True for consistent parsing.\n",
            "  cache_array = _maybe_cache(arg, format, cache, convert_listlike)\n",
            "c:\\Users\\Boudhik Shaj\\AppData\\Local\\Programs\\Python\\Python39\\lib\\site-packages\\pandas\\core\\tools\\datetimes.py:1056: UserWarning: Parsing '26-09-1933' in DD/MM/YYYY format. Provide format or specify infer_datetime_format=True for consistent parsing.\n",
            "  cache_array = _maybe_cache(arg, format, cache, convert_listlike)\n",
            "c:\\Users\\Boudhik Shaj\\AppData\\Local\\Programs\\Python\\Python39\\lib\\site-packages\\pandas\\core\\tools\\datetimes.py:1056: UserWarning: Parsing '22-03-1934' in DD/MM/YYYY format. Provide format or specify infer_datetime_format=True for consistent parsing.\n",
            "  cache_array = _maybe_cache(arg, format, cache, convert_listlike)\n",
            "c:\\Users\\Boudhik Shaj\\AppData\\Local\\Programs\\Python\\Python39\\lib\\site-packages\\pandas\\core\\tools\\datetimes.py:1056: UserWarning: Parsing '26-06-1934' in DD/MM/YYYY format. Provide format or specify infer_datetime_format=True for consistent parsing.\n",
            "  cache_array = _maybe_cache(arg, format, cache, convert_listlike)\n",
            "c:\\Users\\Boudhik Shaj\\AppData\\Local\\Programs\\Python\\Python39\\lib\\site-packages\\pandas\\core\\tools\\datetimes.py:1056: UserWarning: Parsing '25-04-1934' in DD/MM/YYYY format. Provide format or specify infer_datetime_format=True for consistent parsing.\n",
            "  cache_array = _maybe_cache(arg, format, cache, convert_listlike)\n",
            "c:\\Users\\Boudhik Shaj\\AppData\\Local\\Programs\\Python\\Python39\\lib\\site-packages\\pandas\\core\\tools\\datetimes.py:1056: UserWarning: Parsing '31-12-1934' in DD/MM/YYYY format. Provide format or specify infer_datetime_format=True for consistent parsing.\n",
            "  cache_array = _maybe_cache(arg, format, cache, convert_listlike)\n",
            "c:\\Users\\Boudhik Shaj\\AppData\\Local\\Programs\\Python\\Python39\\lib\\site-packages\\pandas\\core\\tools\\datetimes.py:1056: UserWarning: Parsing '23-11-1934' in DD/MM/YYYY format. Provide format or specify infer_datetime_format=True for consistent parsing.\n",
            "  cache_array = _maybe_cache(arg, format, cache, convert_listlike)\n",
            "c:\\Users\\Boudhik Shaj\\AppData\\Local\\Programs\\Python\\Python39\\lib\\site-packages\\pandas\\core\\tools\\datetimes.py:1056: UserWarning: Parsing '29-05-1935' in DD/MM/YYYY format. Provide format or specify infer_datetime_format=True for consistent parsing.\n",
            "  cache_array = _maybe_cache(arg, format, cache, convert_listlike)\n",
            "c:\\Users\\Boudhik Shaj\\AppData\\Local\\Programs\\Python\\Python39\\lib\\site-packages\\pandas\\core\\tools\\datetimes.py:1056: UserWarning: Parsing '31-12-1935' in DD/MM/YYYY format. Provide format or specify infer_datetime_format=True for consistent parsing.\n",
            "  cache_array = _maybe_cache(arg, format, cache, convert_listlike)\n",
            "c:\\Users\\Boudhik Shaj\\AppData\\Local\\Programs\\Python\\Python39\\lib\\site-packages\\pandas\\core\\tools\\datetimes.py:1056: UserWarning: Parsing '28-08-1935' in DD/MM/YYYY format. Provide format or specify infer_datetime_format=True for consistent parsing.\n",
            "  cache_array = _maybe_cache(arg, format, cache, convert_listlike)\n",
            "c:\\Users\\Boudhik Shaj\\AppData\\Local\\Programs\\Python\\Python39\\lib\\site-packages\\pandas\\core\\tools\\datetimes.py:1056: UserWarning: Parsing '15-05-1935' in DD/MM/YYYY format. Provide format or specify infer_datetime_format=True for consistent parsing.\n",
            "  cache_array = _maybe_cache(arg, format, cache, convert_listlike)\n",
            "c:\\Users\\Boudhik Shaj\\AppData\\Local\\Programs\\Python\\Python39\\lib\\site-packages\\pandas\\core\\tools\\datetimes.py:1056: UserWarning: Parsing '29-11-1935' in DD/MM/YYYY format. Provide format or specify infer_datetime_format=True for consistent parsing.\n",
            "  cache_array = _maybe_cache(arg, format, cache, convert_listlike)\n",
            "c:\\Users\\Boudhik Shaj\\AppData\\Local\\Programs\\Python\\Python39\\lib\\site-packages\\pandas\\core\\tools\\datetimes.py:1056: UserWarning: Parsing '16-10-1935' in DD/MM/YYYY format. Provide format or specify infer_datetime_format=True for consistent parsing.\n",
            "  cache_array = _maybe_cache(arg, format, cache, convert_listlike)\n",
            "c:\\Users\\Boudhik Shaj\\AppData\\Local\\Programs\\Python\\Python39\\lib\\site-packages\\pandas\\core\\tools\\datetimes.py:1056: UserWarning: Parsing '14-03-1935' in DD/MM/YYYY format. Provide format or specify infer_datetime_format=True for consistent parsing.\n",
            "  cache_array = _maybe_cache(arg, format, cache, convert_listlike)\n"
          ]
        }
      ],
      "source": [
        "# tracks.set_index('release_date', inplace = True)\n",
        "# tracks.index=pd.to_datetime(tracks.index)\n",
        "# tracks.info()"
      ]
    },
    {
      "cell_type": "markdown",
      "id": "56a6d8a6",
      "metadata": {
        "id": "56a6d8a6",
        "papermill": {
          "duration": 0.042687,
          "end_time": "2022-04-20T20:11:07.064076",
          "exception": false,
          "start_time": "2022-04-20T20:11:07.021389",
          "status": "completed"
        },
        "tags": []
      },
      "source": [
        "### Check artist at 18th row of Spotify Tracks Dataset"
      ]
    },
    {
      "cell_type": "code",
      "execution_count": null,
      "id": "4d3ad50d",
      "metadata": {
        "colab": {
          "base_uri": "https://localhost:8080/"
        },
        "execution": {
          "iopub.execute_input": "2022-04-20T20:11:07.15115Z",
          "iopub.status.busy": "2022-04-20T20:11:07.150433Z",
          "iopub.status.idle": "2022-04-20T20:11:07.406277Z",
          "shell.execute_reply": "2022-04-20T20:11:07.405541Z"
        },
        "id": "4d3ad50d",
        "outputId": "7b89c5d3-6dfa-4b26-8519-cc0511f3162d",
        "papermill": {
          "duration": 0.30121,
          "end_time": "2022-04-20T20:11:07.408379",
          "exception": false,
          "start_time": "2022-04-20T20:11:07.107169",
          "status": "completed"
        },
        "tags": []
      },
      "outputs": [
        {
          "data": {
            "text/plain": [
              "artists    ['Victor Boucher']\n",
              "Name: 1922-01-01 00:00:00, dtype: object"
            ]
          },
          "execution_count": 35,
          "metadata": {},
          "output_type": "execute_result"
        }
      ],
      "source": [
        "tracks[['artists']].iloc[18]"
      ]
    },
    {
      "cell_type": "markdown",
      "id": "907700ee",
      "metadata": {
        "id": "907700ee",
        "papermill": {
          "duration": 0.046091,
          "end_time": "2022-04-20T20:11:07.499359",
          "exception": false,
          "start_time": "2022-04-20T20:11:07.453268",
          "status": "completed"
        },
        "tags": []
      },
      "source": [
        "### Converting duration from millisecond to second on Spotify Tracks Dataset"
      ]
    },
    {
      "cell_type": "code",
      "execution_count": null,
      "id": "d676ffd5",
      "metadata": {
        "colab": {
          "base_uri": "https://localhost:8080/"
        },
        "execution": {
          "iopub.execute_input": "2022-04-20T20:11:07.595117Z",
          "iopub.status.busy": "2022-04-20T20:11:07.594204Z",
          "iopub.status.idle": "2022-04-20T20:11:08.285033Z",
          "shell.execute_reply": "2022-04-20T20:11:08.284061Z"
        },
        "id": "d676ffd5",
        "outputId": "e54ddca7-fcff-4568-ba84-0ae693357fa8",
        "papermill": {
          "duration": 0.7412,
          "end_time": "2022-04-20T20:11:08.287339",
          "exception": false,
          "start_time": "2022-04-20T20:11:07.546139",
          "status": "completed"
        },
        "tags": []
      },
      "outputs": [
        {
          "data": {
            "text/plain": [
              "release_date\n",
              "1922-02-22    127\n",
              "1922-01-06     98\n",
              "1922-03-21    182\n",
              "1922-03-21    177\n",
              "1922-01-01    163\n",
              "Name: duration, dtype: int64"
            ]
          },
          "execution_count": 36,
          "metadata": {},
          "output_type": "execute_result"
        }
      ],
      "source": [
        "tracks['duration'] = tracks['duration_ms'].apply (lambda x : round(x/1000))\n",
        "tracks.drop('duration_ms', inplace = True, axis=1)\n",
        "tracks.duration.head()"
      ]
    },
    {
      "cell_type": "markdown",
      "id": "2cc91424",
      "metadata": {
        "id": "2cc91424",
        "papermill": {
          "duration": 0.04499,
          "end_time": "2022-04-20T20:11:08.37821",
          "exception": false,
          "start_time": "2022-04-20T20:11:08.33322",
          "status": "completed"
        },
        "tags": []
      },
      "source": [
        "### Correlation Heatmap between Variable using Pearson correlation method"
      ]
    },
    {
      "cell_type": "code",
      "execution_count": null,
      "id": "dfd32acd",
      "metadata": {
        "colab": {
          "base_uri": "https://localhost:8080/",
          "height": 686
        },
        "execution": {
          "iopub.execute_input": "2022-04-20T20:11:08.469005Z",
          "iopub.status.busy": "2022-04-20T20:11:08.468569Z",
          "iopub.status.idle": "2022-04-20T20:11:09.953639Z",
          "shell.execute_reply": "2022-04-20T20:11:09.952577Z"
        },
        "id": "dfd32acd",
        "outputId": "0d5e5380-0e67-4951-9c54-5a0a86d39542",
        "papermill": {
          "duration": 1.533563,
          "end_time": "2022-04-20T20:11:09.956872",
          "exception": false,
          "start_time": "2022-04-20T20:11:08.423309",
          "status": "completed"
        },
        "tags": []
      },
      "outputs": [
        {
          "data": {
            "text/plain": [
              "[Text(0.5, 0, 'popularity'),\n",
              " Text(1.5, 0, 'danceability'),\n",
              " Text(2.5, 0, 'energy'),\n",
              " Text(3.5, 0, 'loudness'),\n",
              " Text(4.5, 0, 'speechiness'),\n",
              " Text(5.5, 0, 'acousticness'),\n",
              " Text(6.5, 0, 'instrumentalness'),\n",
              " Text(7.5, 0, 'liveness'),\n",
              " Text(8.5, 0, 'valence'),\n",
              " Text(9.5, 0, 'tempo'),\n",
              " Text(10.5, 0, 'time_signature'),\n",
              " Text(11.5, 0, 'duration')]"
            ]
          },
          "execution_count": 37,
          "metadata": {},
          "output_type": "execute_result"
        },
        {
          "data": {
            "image/png": "[encoded data removed]",
            "text/plain": [
              "<Figure size 1400x600 with 2 Axes>"
            ]
          },
          "metadata": {},
          "output_type": "display_data"
        }
      ],
      "source": [
        "cm = tracks.drop(['key','mode','explicit'], axis=1).corr(method = 'pearson')\n",
        "plt.figure(figsize=(14,6))\n",
        "map = sns.heatmap(cm, annot = True, fmt = '.1g', vmin=-1, vmax=1, center=0, cmap='inferno', linewidths=1, linecolor='Black')\n",
        "map.set_title('Correlation Heatmap between Variable')\n",
        "map.set_xticklabels(map.get_xticklabels(), rotation=90)"
      ]
    },
    {
      "cell_type": "markdown",
      "id": "d81b6fd1",
      "metadata": {
        "id": "d81b6fd1",
        "papermill": {
          "duration": 0.045883,
          "end_time": "2022-04-20T20:11:10.049961",
          "exception": false,
          "start_time": "2022-04-20T20:11:10.004078",
          "status": "completed"
        },
        "tags": []
      },
      "source": [
        "### Considering 0.4% of the total dataset to create Regression plots"
      ]
    },
    {
      "cell_type": "code",
      "execution_count": null,
      "id": "b71fa65c",
      "metadata": {
        "colab": {
          "base_uri": "https://localhost:8080/"
        },
        "execution": {
          "iopub.execute_input": "2022-04-20T20:11:10.143677Z",
          "iopub.status.busy": "2022-04-20T20:11:10.142804Z",
          "iopub.status.idle": "2022-04-20T20:11:10.172304Z",
          "shell.execute_reply": "2022-04-20T20:11:10.171528Z"
        },
        "id": "b71fa65c",
        "outputId": "2e17fd96-aac6-4df4-9b9b-1d10b4d35cc8",
        "papermill": {
          "duration": 0.078571,
          "end_time": "2022-04-20T20:11:10.174308",
          "exception": false,
          "start_time": "2022-04-20T20:11:10.095737",
          "status": "completed"
        },
        "tags": []
      },
      "outputs": [
        {
          "data": {
            "text/plain": [
              "40"
            ]
          },
          "execution_count": 38,
          "metadata": {},
          "output_type": "execute_result"
        }
      ],
      "source": [
        "sam = tracks.sample(int(0.004 * len(tracks)))\n",
        "len(sam)"
      ]
    },
    {
      "cell_type": "markdown",
      "id": "d7a4a3b9",
      "metadata": {
        "id": "d7a4a3b9",
        "papermill": {
          "duration": 0.045819,
          "end_time": "2022-04-20T20:11:10.265526",
          "exception": false,
          "start_time": "2022-04-20T20:11:10.219707",
          "status": "completed"
        },
        "tags": []
      },
      "source": [
        "### Regression plot - Correlation between Loudness and Energy"
      ]
    },
    {
      "cell_type": "code",
      "execution_count": null,
      "id": "f26bf2db",
      "metadata": {
        "colab": {
          "base_uri": "https://localhost:8080/",
          "height": 422
        },
        "execution": {
          "iopub.execute_input": "2022-04-20T20:11:10.361652Z",
          "iopub.status.busy": "2022-04-20T20:11:10.36109Z",
          "iopub.status.idle": "2022-04-20T20:11:10.818495Z",
          "shell.execute_reply": "2022-04-20T20:11:10.817518Z"
        },
        "id": "f26bf2db",
        "outputId": "cb73f498-7410-457c-a561-600285b8fce0",
        "papermill": {
          "duration": 0.50927,
          "end_time": "2022-04-20T20:11:10.820753",
          "exception": false,
          "start_time": "2022-04-20T20:11:10.311483",
          "status": "completed"
        },
        "tags": []
      },
      "outputs": [
        {
          "data": {
            "text/plain": [
              "[Text(0.5, 1.0, 'Loudness vs Energy Correlation')]"
            ]
          },
          "execution_count": 39,
          "metadata": {},
          "output_type": "execute_result"
        },
        {
          "data": {
            "image/png": "[encoded data removed]",
            "text/plain": [
              "<Figure size 1000x600 with 1 Axes>"
            ]
          },
          "metadata": {},
          "output_type": "display_data"
        }
      ],
      "source": [
        "plt.figure(figsize=(10,6))\n",
        "sns.regplot(data=sam, y='loudness', x='energy', color='c').set(title='Loudness vs Energy Correlation')"
      ]
    },
    {
      "cell_type": "markdown",
      "id": "1640b222",
      "metadata": {
        "id": "1640b222",
        "papermill": {
          "duration": 0.049118,
          "end_time": "2022-04-20T20:11:10.919754",
          "exception": false,
          "start_time": "2022-04-20T20:11:10.870636",
          "status": "completed"
        },
        "tags": []
      },
      "source": [
        "### Regression plot - Correlation between Popularity and Acousticness"
      ]
    },
    {
      "cell_type": "code",
      "execution_count": null,
      "id": "735ea505",
      "metadata": {
        "colab": {
          "base_uri": "https://localhost:8080/",
          "height": 422
        },
        "execution": {
          "iopub.execute_input": "2022-04-20T20:11:11.021666Z",
          "iopub.status.busy": "2022-04-20T20:11:11.020547Z",
          "iopub.status.idle": "2022-04-20T20:11:11.463511Z",
          "shell.execute_reply": "2022-04-20T20:11:11.462864Z"
        },
        "id": "735ea505",
        "outputId": "04ea0660-1eea-4080-e85b-73dd17f6738f",
        "papermill": {
          "duration": 0.496321,
          "end_time": "2022-04-20T20:11:11.466213",
          "exception": false,
          "start_time": "2022-04-20T20:11:10.969892",
          "status": "completed"
        },
        "tags": []
      },
      "outputs": [
        {
          "data": {
            "text/plain": [
              "[Text(0.5, 1.0, 'Popularity vs Acousticness Correlation')]"
            ]
          },
          "execution_count": 40,
          "metadata": {},
          "output_type": "execute_result"
        },
        {
          "data": {
            "image/png": "[encoded data removed]",
            "text/plain": [
              "<Figure size 1000x600 with 1 Axes>"
            ]
          },
          "metadata": {},
          "output_type": "display_data"
        }
      ],
      "source": [
        "plt.figure(figsize=(10,6))\n",
        "sns.regplot(data=sam, y='popularity', x='acousticness', color='b').set(title='Popularity vs Acousticness Correlation')"
      ]
    },
    {
      "cell_type": "markdown",
      "id": "cab2ef24",
      "metadata": {
        "id": "cab2ef24",
        "papermill": {
          "duration": 0.051666,
          "end_time": "2022-04-20T20:11:11.570373",
          "exception": false,
          "start_time": "2022-04-20T20:11:11.518707",
          "status": "completed"
        },
        "tags": []
      },
      "source": [
        "### Creating new column in tracks dataset (Year, Release Date)"
      ]
    },
    {
      "cell_type": "code",
      "execution_count": null,
      "id": "b3eedfcb",
      "metadata": {
        "execution": {
          "iopub.execute_input": "2022-04-20T20:11:11.676763Z",
          "iopub.status.busy": "2022-04-20T20:11:11.676245Z",
          "iopub.status.idle": "2022-04-20T20:11:11.779223Z",
          "shell.execute_reply": "2022-04-20T20:11:11.778404Z"
        },
        "id": "b3eedfcb",
        "papermill": {
          "duration": 0.159302,
          "end_time": "2022-04-20T20:11:11.781626",
          "exception": false,
          "start_time": "2022-04-20T20:11:11.622324",
          "status": "completed"
        },
        "tags": []
      },
      "outputs": [],
      "source": [
        "tracks['dates']=tracks.index.get_level_values('release_date')\n",
        "tracks.dates=pd.to_datetime(tracks.dates)\n",
        "years=tracks.dates.dt.year"
      ]
    },
    {
      "cell_type": "code",
      "execution_count": null,
      "id": "43e6bf4c",
      "metadata": {
        "colab": {
          "base_uri": "https://localhost:8080/",
          "height": 423
        },
        "execution": {
          "iopub.execute_input": "2022-04-20T20:11:11.887681Z",
          "iopub.status.busy": "2022-04-20T20:11:11.887181Z",
          "iopub.status.idle": "2022-04-20T20:11:11.910529Z",
          "shell.execute_reply": "2022-04-20T20:11:11.909783Z"
        },
        "id": "43e6bf4c",
        "outputId": "821eb0ab-bec8-430b-b83a-fdcb4f4331d9",
        "papermill": {
          "duration": 0.079324,
          "end_time": "2022-04-20T20:11:11.912834",
          "exception": false,
          "start_time": "2022-04-20T20:11:11.83351",
          "status": "completed"
        },
        "tags": []
      },
      "outputs": [
        {
          "data": {
            "text/html": [
              "<div>\n",
              "<style scoped>\n",
              "    .dataframe tbody tr th:only-of-type {\n",
              "        vertical-align: middle;\n",
              "    }\n",
              "\n",
              "    .dataframe tbody tr th {\n",
              "        vertical-align: top;\n",
              "    }\n",
              "\n",
              "    .dataframe thead th {\n",
              "        text-align: right;\n",
              "    }\n",
              "</style>\n",
              "<table border=\"1\" class=\"dataframe\">\n",
              "  <thead>\n",
              "    <tr style=\"text-align: right;\">\n",
              "      <th></th>\n",
              "      <th>name</th>\n",
              "      <th>popularity</th>\n",
              "      <th>explicit</th>\n",
              "      <th>artists</th>\n",
              "      <th>danceability</th>\n",
              "      <th>energy</th>\n",
              "      <th>key</th>\n",
              "      <th>loudness</th>\n",
              "      <th>mode</th>\n",
              "      <th>speechiness</th>\n",
              "      <th>acousticness</th>\n",
              "      <th>instrumentalness</th>\n",
              "      <th>liveness</th>\n",
              "      <th>valence</th>\n",
              "      <th>tempo</th>\n",
              "      <th>time_signature</th>\n",
              "      <th>duration</th>\n",
              "      <th>dates</th>\n",
              "    </tr>\n",
              "    <tr>\n",
              "      <th>release_date</th>\n",
              "      <th></th>\n",
              "      <th></th>\n",
              "      <th></th>\n",
              "      <th></th>\n",
              "      <th></th>\n",
              "      <th></th>\n",
              "      <th></th>\n",
              "      <th></th>\n",
              "      <th></th>\n",
              "      <th></th>\n",
              "      <th></th>\n",
              "      <th></th>\n",
              "      <th></th>\n",
              "      <th></th>\n",
              "      <th></th>\n",
              "      <th></th>\n",
              "      <th></th>\n",
              "      <th></th>\n",
              "    </tr>\n",
              "  </thead>\n",
              "  <tbody>\n",
              "    <tr>\n",
              "      <th>1922-02-22</th>\n",
              "      <td>Carve</td>\n",
              "      <td>6</td>\n",
              "      <td>0</td>\n",
              "      <td>['Uli']</td>\n",
              "      <td>0.645</td>\n",
              "      <td>0.4450</td>\n",
              "      <td>0</td>\n",
              "      <td>-13.338</td>\n",
              "      <td>1</td>\n",
              "      <td>0.4510</td>\n",
              "      <td>0.674</td>\n",
              "      <td>0.7440</td>\n",
              "      <td>0.151</td>\n",
              "      <td>0.127</td>\n",
              "      <td>104.851</td>\n",
              "      <td>3</td>\n",
              "      <td>127</td>\n",
              "      <td>1922-02-22</td>\n",
              "    </tr>\n",
              "    <tr>\n",
              "      <th>1922-01-06</th>\n",
              "      <td>Capítulo 2.16 - Banquero Anarquista</td>\n",
              "      <td>0</td>\n",
              "      <td>0</td>\n",
              "      <td>['Fernando Pessoa']</td>\n",
              "      <td>0.695</td>\n",
              "      <td>0.2630</td>\n",
              "      <td>0</td>\n",
              "      <td>-22.136</td>\n",
              "      <td>1</td>\n",
              "      <td>0.9570</td>\n",
              "      <td>0.797</td>\n",
              "      <td>0.0000</td>\n",
              "      <td>0.148</td>\n",
              "      <td>0.655</td>\n",
              "      <td>102.009</td>\n",
              "      <td>1</td>\n",
              "      <td>98</td>\n",
              "      <td>1922-01-06</td>\n",
              "    </tr>\n",
              "    <tr>\n",
              "      <th>1922-03-21</th>\n",
              "      <td>Vivo para Quererte - Remasterizado</td>\n",
              "      <td>0</td>\n",
              "      <td>0</td>\n",
              "      <td>['Ignacio Corsini']</td>\n",
              "      <td>0.434</td>\n",
              "      <td>0.1770</td>\n",
              "      <td>1</td>\n",
              "      <td>-21.180</td>\n",
              "      <td>1</td>\n",
              "      <td>0.0512</td>\n",
              "      <td>0.994</td>\n",
              "      <td>0.0218</td>\n",
              "      <td>0.212</td>\n",
              "      <td>0.457</td>\n",
              "      <td>130.418</td>\n",
              "      <td>5</td>\n",
              "      <td>182</td>\n",
              "      <td>1922-03-21</td>\n",
              "    </tr>\n",
              "    <tr>\n",
              "      <th>1922-03-21</th>\n",
              "      <td>El Prisionero - Remasterizado</td>\n",
              "      <td>0</td>\n",
              "      <td>0</td>\n",
              "      <td>['Ignacio Corsini']</td>\n",
              "      <td>0.321</td>\n",
              "      <td>0.0946</td>\n",
              "      <td>7</td>\n",
              "      <td>-27.961</td>\n",
              "      <td>1</td>\n",
              "      <td>0.0504</td>\n",
              "      <td>0.995</td>\n",
              "      <td>0.9180</td>\n",
              "      <td>0.104</td>\n",
              "      <td>0.397</td>\n",
              "      <td>169.980</td>\n",
              "      <td>3</td>\n",
              "      <td>177</td>\n",
              "      <td>1922-03-21</td>\n",
              "    </tr>\n",
              "    <tr>\n",
              "      <th>1922-01-01</th>\n",
              "      <td>Lady of the Evening</td>\n",
              "      <td>0</td>\n",
              "      <td>0</td>\n",
              "      <td>['Dick Haymes']</td>\n",
              "      <td>0.402</td>\n",
              "      <td>0.1580</td>\n",
              "      <td>3</td>\n",
              "      <td>-16.900</td>\n",
              "      <td>0</td>\n",
              "      <td>0.0390</td>\n",
              "      <td>0.989</td>\n",
              "      <td>0.1300</td>\n",
              "      <td>0.311</td>\n",
              "      <td>0.196</td>\n",
              "      <td>103.220</td>\n",
              "      <td>4</td>\n",
              "      <td>163</td>\n",
              "      <td>1922-01-01</td>\n",
              "    </tr>\n",
              "  </tbody>\n",
              "</table>\n",
              "</div>"
            ],
            "text/plain": [
              "                                             name  popularity  explicit  \\\n",
              "release_date                                                              \n",
              "1922-02-22                                  Carve           6         0   \n",
              "1922-01-06    Capítulo 2.16 - Banquero Anarquista           0         0   \n",
              "1922-03-21     Vivo para Quererte - Remasterizado           0         0   \n",
              "1922-03-21          El Prisionero - Remasterizado           0         0   \n",
              "1922-01-01                    Lady of the Evening           0         0   \n",
              "\n",
              "                          artists  danceability  energy  key  loudness  mode  \\\n",
              "release_date                                                                   \n",
              "1922-02-22                ['Uli']         0.645  0.4450    0   -13.338     1   \n",
              "1922-01-06    ['Fernando Pessoa']         0.695  0.2630    0   -22.136     1   \n",
              "1922-03-21    ['Ignacio Corsini']         0.434  0.1770    1   -21.180     1   \n",
              "1922-03-21    ['Ignacio Corsini']         0.321  0.0946    7   -27.961     1   \n",
              "1922-01-01        ['Dick Haymes']         0.402  0.1580    3   -16.900     0   \n",
              "\n",
              "              speechiness  acousticness  instrumentalness  liveness  valence  \\\n",
              "release_date                                                                   \n",
              "1922-02-22         0.4510         0.674            0.7440     0.151    0.127   \n",
              "1922-01-06         0.9570         0.797            0.0000     0.148    0.655   \n",
              "1922-03-21         0.0512         0.994            0.0218     0.212    0.457   \n",
              "1922-03-21         0.0504         0.995            0.9180     0.104    0.397   \n",
              "1922-01-01         0.0390         0.989            0.1300     0.311    0.196   \n",
              "\n",
              "                tempo  time_signature  duration      dates  \n",
              "release_date                                                \n",
              "1922-02-22    104.851               3       127 1922-02-22  \n",
              "1922-01-06    102.009               1        98 1922-01-06  \n",
              "1922-03-21    130.418               5       182 1922-03-21  \n",
              "1922-03-21    169.980               3       177 1922-03-21  \n",
              "1922-01-01    103.220               4       163 1922-01-01  "
            ]
          },
          "execution_count": 42,
          "metadata": {},
          "output_type": "execute_result"
        }
      ],
      "source": [
        "tracks.head()"
      ]
    },
    {
      "cell_type": "markdown",
      "id": "e984f1d7",
      "metadata": {
        "id": "e984f1d7",
        "papermill": {
          "duration": 0.052882,
          "end_time": "2022-04-20T20:11:12.019275",
          "exception": false,
          "start_time": "2022-04-20T20:11:11.966393",
          "status": "completed"
        },
        "tags": []
      },
      "source": [
        "### Distibution plot - Visualize total number of songs on Spotify since 1992"
      ]
    },
    {
      "cell_type": "code",
      "execution_count": null,
      "id": "2b0de209",
      "metadata": {
        "colab": {
          "base_uri": "https://localhost:8080/",
          "height": 403
        },
        "execution": {
          "iopub.execute_input": "2022-04-20T20:11:12.127513Z",
          "iopub.status.busy": "2022-04-20T20:11:12.126966Z",
          "iopub.status.idle": "2022-04-20T20:11:13.328084Z",
          "shell.execute_reply": "2022-04-20T20:11:13.327103Z"
        },
        "id": "2b0de209",
        "outputId": "697d54a4-e687-4a3b-b8c5-be40ba4326fa",
        "papermill": {
          "duration": 1.257757,
          "end_time": "2022-04-20T20:11:13.330271",
          "exception": false,
          "start_time": "2022-04-20T20:11:12.072514",
          "status": "completed"
        },
        "tags": []
      },
      "outputs": [
        {
          "data": {
            "text/plain": [
              "<seaborn.axisgrid.FacetGrid at 0x1a4d41d60a0>"
            ]
          },
          "execution_count": 43,
          "metadata": {},
          "output_type": "execute_result"
        },
        {
          "data": {
            "image/png": "[encoded data removed]",
            "text/plain": [
              "<Figure size 1000x500 with 1 Axes>"
            ]
          },
          "metadata": {},
          "output_type": "display_data"
        }
      ],
      "source": [
        "sns.displot(years, discrete=True, aspect=2, height=5, kind='hist').set(title='Number of songs per year')"
      ]
    },
    {
      "cell_type": "markdown",
      "id": "8fe23234",
      "metadata": {
        "id": "8fe23234",
        "papermill": {
          "duration": 0.053645,
          "end_time": "2022-04-20T20:11:13.439961",
          "exception": false,
          "start_time": "2022-04-20T20:11:13.386316",
          "status": "completed"
        },
        "tags": []
      },
      "source": [
        "### Change in Duration of songs wrt Years"
      ]
    },
    {
      "cell_type": "code",
      "execution_count": null,
      "id": "2f758e47",
      "metadata": {
        "colab": {
          "base_uri": "https://localhost:8080/",
          "height": 510
        },
        "execution": {
          "iopub.execute_input": "2022-04-20T20:11:13.549292Z",
          "iopub.status.busy": "2022-04-20T20:11:13.548995Z",
          "iopub.status.idle": "2022-04-20T20:11:24.551674Z",
          "shell.execute_reply": "2022-04-20T20:11:24.55068Z"
        },
        "id": "2f758e47",
        "outputId": "e39341f6-280d-424e-a846-9b4a96443d84",
        "papermill": {
          "duration": 11.060026,
          "end_time": "2022-04-20T20:11:24.554106",
          "exception": false,
          "start_time": "2022-04-20T20:11:13.49408",
          "status": "completed"
        },
        "tags": []
      },
      "outputs": [
        {
          "data": {
            "text/plain": [
              "(array([ 0,  1,  2,  3,  4,  5,  6,  7,  8,  9, 10, 11, 12, 13]),\n",
              " [Text(0, 0, '1922'),\n",
              "  Text(1, 0, '1923'),\n",
              "  Text(2, 0, '1924'),\n",
              "  Text(3, 0, '1925'),\n",
              "  Text(4, 0, '1926'),\n",
              "  Text(5, 0, '1927'),\n",
              "  Text(6, 0, '1928'),\n",
              "  Text(7, 0, '1929'),\n",
              "  Text(8, 0, '1930'),\n",
              "  Text(9, 0, '1931'),\n",
              "  Text(10, 0, '1932'),\n",
              "  Text(11, 0, '1933'),\n",
              "  Text(12, 0, '1934'),\n",
              "  Text(13, 0, '1935')])"
            ]
          },
          "execution_count": 44,
          "metadata": {},
          "output_type": "execute_result"
        },
        {
          "data": {
            "image/png": "[encoded data removed]",
            "text/plain": [
              "<Figure size 1800x700 with 1 Axes>"
            ]
          },
          "metadata": {},
          "output_type": "display_data"
        }
      ],
      "source": [
        "total_dr = tracks.duration\n",
        "fig_dims = (18,7)\n",
        "fig, ax = plt.subplots(figsize=fig_dims)\n",
        "fig = sns.barplot(x = years, y = total_dr, ax = ax, errwidth = False).set(title='Years vs Duration')\n",
        "plt.xticks(rotation=90)"
      ]
    },
    {
      "cell_type": "markdown",
      "id": "8319f841",
      "metadata": {
        "id": "8319f841",
        "papermill": {
          "duration": 0.057652,
          "end_time": "2022-04-20T20:11:24.670125",
          "exception": false,
          "start_time": "2022-04-20T20:11:24.612473",
          "status": "completed"
        },
        "tags": []
      },
      "source": [
        "## Spotify Features Dataset Analysis"
      ]
    },
    {
      "cell_type": "markdown",
      "id": "fd9c767a",
      "metadata": {
        "id": "fd9c767a",
        "papermill": {
          "duration": 0.055933,
          "end_time": "2022-04-20T20:11:24.782237",
          "exception": false,
          "start_time": "2022-04-20T20:11:24.726304",
          "status": "completed"
        },
        "tags": []
      },
      "source": [
        "### Duration of songs in different Genres"
      ]
    },
    {
      "cell_type": "code",
      "execution_count": null,
      "id": "c6a2230a",
      "metadata": {
        "colab": {
          "base_uri": "https://localhost:8080/",
          "height": 313
        },
        "execution": {
          "iopub.execute_input": "2022-04-20T20:11:24.897066Z",
          "iopub.status.busy": "2022-04-20T20:11:24.896711Z",
          "iopub.status.idle": "2022-04-20T20:11:28.768442Z",
          "shell.execute_reply": "2022-04-20T20:11:28.767525Z"
        },
        "id": "c6a2230a",
        "outputId": "41ab568c-22bc-4b04-8b5b-aa516dda3de9",
        "papermill": {
          "duration": 3.932869,
          "end_time": "2022-04-20T20:11:28.770709",
          "exception": false,
          "start_time": "2022-04-20T20:11:24.83784",
          "status": "completed"
        },
        "tags": []
      },
      "outputs": [
        {
          "data": {
            "text/plain": [
              "Text(0, 0.5, 'Genres')"
            ]
          },
          "execution_count": 45,
          "metadata": {},
          "output_type": "execute_result"
        },
        {
          "data": {
            "image/png": "[encoded data removed]",
            "text/plain": [
              "<Figure size 640x480 with 1 Axes>"
            ]
          },
          "metadata": {},
          "output_type": "display_data"
        }
      ],
      "source": [
        "plt.title('Duration of songs in different Genres')\n",
        "sns.color_palette('rocket', as_cmap=True)\n",
        "sns.barplot(y='genre', x='duration_ms', data=genre)\n",
        "plt.xlabel('Duration in milliseconds')\n",
        "plt.ylabel('Genres')"
      ]
    },
    {
      "cell_type": "markdown",
      "id": "850689af",
      "metadata": {
        "id": "850689af",
        "papermill": {
          "duration": 0.057133,
          "end_time": "2022-04-20T20:11:28.885568",
          "exception": false,
          "start_time": "2022-04-20T20:11:28.828435",
          "status": "completed"
        },
        "tags": []
      },
      "source": [
        "### Top 5 Genres by Popularity"
      ]
    },
    {
      "cell_type": "code",
      "execution_count": null,
      "id": "TAIc_E6y25sU",
      "metadata": {
        "colab": {
          "base_uri": "https://localhost:8080/",
          "height": 368
        },
        "id": "TAIc_E6y25sU",
        "outputId": "a25e2c79-c313-4bb8-c2bb-df5723b7fd56"
      },
      "outputs": [
        {
          "data": {
            "text/plain": [
              "[Text(0.5, 1.0, 'Top 5 Genres by Popularity')]"
            ]
          },
          "execution_count": 46,
          "metadata": {},
          "output_type": "execute_result"
        },
        {
          "data": {
            "image/png": "[encoded data removed]",
            "text/plain": [
              "<Figure size 1000x500 with 1 Axes>"
            ]
          },
          "metadata": {},
          "output_type": "display_data"
        }
      ],
      "source": [
        "sns.set_style(style='darkgrid')\n",
        "plt.figure(figsize=(10,5))\n",
        "popular = genre.sort_values('popularity', ascending=False).head(10)\n",
        "sns.barplot(y = 'genre', x = 'popularity', data = popular).set(title='Top 5 Genres by Popularity')"
      ]
    },
    {
      "cell_type": "code",
      "execution_count": null,
      "id": "07e9ced4",
      "metadata": {},
      "outputs": [
        {
          "data": {
            "text/html": [
              "<div>\n",
              "<style scoped>\n",
              "    .dataframe tbody tr th:only-of-type {\n",
              "        vertical-align: middle;\n",
              "    }\n",
              "\n",
              "    .dataframe tbody tr th {\n",
              "        vertical-align: top;\n",
              "    }\n",
              "\n",
              "    .dataframe thead th {\n",
              "        text-align: right;\n",
              "    }\n",
              "</style>\n",
              "<table border=\"1\" class=\"dataframe\">\n",
              "  <thead>\n",
              "    <tr style=\"text-align: right;\">\n",
              "      <th></th>\n",
              "      <th>name</th>\n",
              "      <th>popularity</th>\n",
              "      <th>explicit</th>\n",
              "      <th>artists</th>\n",
              "      <th>danceability</th>\n",
              "      <th>energy</th>\n",
              "      <th>key</th>\n",
              "      <th>loudness</th>\n",
              "      <th>mode</th>\n",
              "      <th>speechiness</th>\n",
              "      <th>acousticness</th>\n",
              "      <th>instrumentalness</th>\n",
              "      <th>liveness</th>\n",
              "      <th>valence</th>\n",
              "      <th>tempo</th>\n",
              "      <th>time_signature</th>\n",
              "      <th>duration</th>\n",
              "      <th>dates</th>\n",
              "    </tr>\n",
              "    <tr>\n",
              "      <th>release_date</th>\n",
              "      <th></th>\n",
              "      <th></th>\n",
              "      <th></th>\n",
              "      <th></th>\n",
              "      <th></th>\n",
              "      <th></th>\n",
              "      <th></th>\n",
              "      <th></th>\n",
              "      <th></th>\n",
              "      <th></th>\n",
              "      <th></th>\n",
              "      <th></th>\n",
              "      <th></th>\n",
              "      <th></th>\n",
              "      <th></th>\n",
              "      <th></th>\n",
              "      <th></th>\n",
              "      <th></th>\n",
              "    </tr>\n",
              "  </thead>\n",
              "  <tbody>\n",
              "    <tr>\n",
              "      <th>1922-02-22</th>\n",
              "      <td>Carve</td>\n",
              "      <td>6</td>\n",
              "      <td>0</td>\n",
              "      <td>['Uli']</td>\n",
              "      <td>0.645</td>\n",
              "      <td>0.4450</td>\n",
              "      <td>0</td>\n",
              "      <td>-13.338</td>\n",
              "      <td>1</td>\n",
              "      <td>0.4510</td>\n",
              "      <td>0.674</td>\n",
              "      <td>0.7440</td>\n",
              "      <td>0.151</td>\n",
              "      <td>0.127</td>\n",
              "      <td>104.851</td>\n",
              "      <td>3</td>\n",
              "      <td>127</td>\n",
              "      <td>1922-02-22</td>\n",
              "    </tr>\n",
              "    <tr>\n",
              "      <th>1922-01-06</th>\n",
              "      <td>Capítulo 2.16 - Banquero Anarquista</td>\n",
              "      <td>0</td>\n",
              "      <td>0</td>\n",
              "      <td>['Fernando Pessoa']</td>\n",
              "      <td>0.695</td>\n",
              "      <td>0.2630</td>\n",
              "      <td>0</td>\n",
              "      <td>-22.136</td>\n",
              "      <td>1</td>\n",
              "      <td>0.9570</td>\n",
              "      <td>0.797</td>\n",
              "      <td>0.0000</td>\n",
              "      <td>0.148</td>\n",
              "      <td>0.655</td>\n",
              "      <td>102.009</td>\n",
              "      <td>1</td>\n",
              "      <td>98</td>\n",
              "      <td>1922-01-06</td>\n",
              "    </tr>\n",
              "    <tr>\n",
              "      <th>1922-03-21</th>\n",
              "      <td>Vivo para Quererte - Remasterizado</td>\n",
              "      <td>0</td>\n",
              "      <td>0</td>\n",
              "      <td>['Ignacio Corsini']</td>\n",
              "      <td>0.434</td>\n",
              "      <td>0.1770</td>\n",
              "      <td>1</td>\n",
              "      <td>-21.180</td>\n",
              "      <td>1</td>\n",
              "      <td>0.0512</td>\n",
              "      <td>0.994</td>\n",
              "      <td>0.0218</td>\n",
              "      <td>0.212</td>\n",
              "      <td>0.457</td>\n",
              "      <td>130.418</td>\n",
              "      <td>5</td>\n",
              "      <td>182</td>\n",
              "      <td>1922-03-21</td>\n",
              "    </tr>\n",
              "    <tr>\n",
              "      <th>1922-03-21</th>\n",
              "      <td>El Prisionero - Remasterizado</td>\n",
              "      <td>0</td>\n",
              "      <td>0</td>\n",
              "      <td>['Ignacio Corsini']</td>\n",
              "      <td>0.321</td>\n",
              "      <td>0.0946</td>\n",
              "      <td>7</td>\n",
              "      <td>-27.961</td>\n",
              "      <td>1</td>\n",
              "      <td>0.0504</td>\n",
              "      <td>0.995</td>\n",
              "      <td>0.9180</td>\n",
              "      <td>0.104</td>\n",
              "      <td>0.397</td>\n",
              "      <td>169.980</td>\n",
              "      <td>3</td>\n",
              "      <td>177</td>\n",
              "      <td>1922-03-21</td>\n",
              "    </tr>\n",
              "    <tr>\n",
              "      <th>1922-01-01</th>\n",
              "      <td>Lady of the Evening</td>\n",
              "      <td>0</td>\n",
              "      <td>0</td>\n",
              "      <td>['Dick Haymes']</td>\n",
              "      <td>0.402</td>\n",
              "      <td>0.1580</td>\n",
              "      <td>3</td>\n",
              "      <td>-16.900</td>\n",
              "      <td>0</td>\n",
              "      <td>0.0390</td>\n",
              "      <td>0.989</td>\n",
              "      <td>0.1300</td>\n",
              "      <td>0.311</td>\n",
              "      <td>0.196</td>\n",
              "      <td>103.220</td>\n",
              "      <td>4</td>\n",
              "      <td>163</td>\n",
              "      <td>1922-01-01</td>\n",
              "    </tr>\n",
              "  </tbody>\n",
              "</table>\n",
              "</div>"
            ],
            "text/plain": [
              "                                             name  popularity  explicit  \\\n",
              "release_date                                                              \n",
              "1922-02-22                                  Carve           6         0   \n",
              "1922-01-06    Capítulo 2.16 - Banquero Anarquista           0         0   \n",
              "1922-03-21     Vivo para Quererte - Remasterizado           0         0   \n",
              "1922-03-21          El Prisionero - Remasterizado           0         0   \n",
              "1922-01-01                    Lady of the Evening           0         0   \n",
              "\n",
              "                          artists  danceability  energy  key  loudness  mode  \\\n",
              "release_date                                                                   \n",
              "1922-02-22                ['Uli']         0.645  0.4450    0   -13.338     1   \n",
              "1922-01-06    ['Fernando Pessoa']         0.695  0.2630    0   -22.136     1   \n",
              "1922-03-21    ['Ignacio Corsini']         0.434  0.1770    1   -21.180     1   \n",
              "1922-03-21    ['Ignacio Corsini']         0.321  0.0946    7   -27.961     1   \n",
              "1922-01-01        ['Dick Haymes']         0.402  0.1580    3   -16.900     0   \n",
              "\n",
              "              speechiness  acousticness  instrumentalness  liveness  valence  \\\n",
              "release_date                                                                   \n",
              "1922-02-22         0.4510         0.674            0.7440     0.151    0.127   \n",
              "1922-01-06         0.9570         0.797            0.0000     0.148    0.655   \n",
              "1922-03-21         0.0512         0.994            0.0218     0.212    0.457   \n",
              "1922-03-21         0.0504         0.995            0.9180     0.104    0.397   \n",
              "1922-01-01         0.0390         0.989            0.1300     0.311    0.196   \n",
              "\n",
              "                tempo  time_signature  duration      dates  \n",
              "release_date                                                \n",
              "1922-02-22    104.851               3       127 1922-02-22  \n",
              "1922-01-06    102.009               1        98 1922-01-06  \n",
              "1922-03-21    130.418               5       182 1922-03-21  \n",
              "1922-03-21    169.980               3       177 1922-03-21  \n",
              "1922-01-01    103.220               4       163 1922-01-01  "
            ]
          },
          "execution_count": 47,
          "metadata": {},
          "output_type": "execute_result"
        }
      ],
      "source": [
        "tracks.head()"
      ]
    },
    {
      "cell_type": "code",
      "execution_count": null,
      "id": "d95e5c24",
      "metadata": {},
      "outputs": [],
      "source": [
        "X = tracks.drop(['danceability','mode','name','artists','dates','duration'],axis=1)\n",
        "Y = tracks['mode']\n",
        "X.reset_index(drop=True, inplace=True)\n",
        "Y.reset_index(drop=True, inplace=True)"
      ]
    },
    {
      "cell_type": "code",
      "execution_count": null,
      "id": "a916318f",
      "metadata": {},
      "outputs": [],
      "source": [
        "cols=['energy','loudness','speechiness','acousticness','instrumentalness','liveness','valence','tempo','time_signature']"
      ]
    },
    {
      "cell_type": "code",
      "execution_count": null,
      "id": "052ef669",
      "metadata": {},
      "outputs": [],
      "source": [
        "from sklearn.preprocessing import StandardScaler\n",
        "st = StandardScaler()\n",
        "X[cols]=st.fit_transform(X[cols])"
      ]
    },
    {
      "cell_type": "code",
      "execution_count": null,
      "id": "60633921",
      "metadata": {},
      "outputs": [
        {
          "data": {
            "text/html": [
              "<div>\n",
              "<style scoped>\n",
              "    .dataframe tbody tr th:only-of-type {\n",
              "        vertical-align: middle;\n",
              "    }\n",
              "\n",
              "    .dataframe tbody tr th {\n",
              "        vertical-align: top;\n",
              "    }\n",
              "\n",
              "    .dataframe thead th {\n",
              "        text-align: right;\n",
              "    }\n",
              "</style>\n",
              "<table border=\"1\" class=\"dataframe\">\n",
              "  <thead>\n",
              "    <tr style=\"text-align: right;\">\n",
              "      <th></th>\n",
              "      <th>popularity</th>\n",
              "      <th>explicit</th>\n",
              "      <th>energy</th>\n",
              "      <th>key</th>\n",
              "      <th>loudness</th>\n",
              "      <th>speechiness</th>\n",
              "      <th>acousticness</th>\n",
              "      <th>instrumentalness</th>\n",
              "      <th>liveness</th>\n",
              "      <th>valence</th>\n",
              "      <th>tempo</th>\n",
              "      <th>time_signature</th>\n",
              "    </tr>\n",
              "  </thead>\n",
              "  <tbody>\n",
              "    <tr>\n",
              "      <th>0</th>\n",
              "      <td>6</td>\n",
              "      <td>0</td>\n",
              "      <td>1.191149</td>\n",
              "      <td>0</td>\n",
              "      <td>0.377152</td>\n",
              "      <td>0.456233</td>\n",
              "      <td>-1.011163</td>\n",
              "      <td>1.251363</td>\n",
              "      <td>-0.399439</td>\n",
              "      <td>-1.951809</td>\n",
              "      <td>-0.209663</td>\n",
              "      <td>-1.078842</td>\n",
              "    </tr>\n",
              "    <tr>\n",
              "      <th>1</th>\n",
              "      <td>0</td>\n",
              "      <td>0</td>\n",
              "      <td>-0.012844</td>\n",
              "      <td>0</td>\n",
              "      <td>-1.251500</td>\n",
              "      <td>1.842023</td>\n",
              "      <td>-0.385623</td>\n",
              "      <td>-0.745067</td>\n",
              "      <td>-0.419465</td>\n",
              "      <td>0.294639</td>\n",
              "      <td>-0.301066</td>\n",
              "      <td>-3.943679</td>\n",
              "    </tr>\n",
              "    <tr>\n",
              "      <th>2</th>\n",
              "      <td>0</td>\n",
              "      <td>0</td>\n",
              "      <td>-0.581764</td>\n",
              "      <td>1</td>\n",
              "      <td>-1.074529</td>\n",
              "      <td>-0.638706</td>\n",
              "      <td>0.616256</td>\n",
              "      <td>-0.686570</td>\n",
              "      <td>0.007762</td>\n",
              "      <td>-0.547779</td>\n",
              "      <td>0.612610</td>\n",
              "      <td>1.785996</td>\n",
              "    </tr>\n",
              "    <tr>\n",
              "      <th>3</th>\n",
              "      <td>0</td>\n",
              "      <td>0</td>\n",
              "      <td>-1.126869</td>\n",
              "      <td>7</td>\n",
              "      <td>-2.329801</td>\n",
              "      <td>-0.640897</td>\n",
              "      <td>0.621342</td>\n",
              "      <td>1.718270</td>\n",
              "      <td>-0.713183</td>\n",
              "      <td>-0.803057</td>\n",
              "      <td>1.884983</td>\n",
              "      <td>-1.078842</td>\n",
              "    </tr>\n",
              "    <tr>\n",
              "      <th>4</th>\n",
              "      <td>0</td>\n",
              "      <td>0</td>\n",
              "      <td>-0.707456</td>\n",
              "      <td>3</td>\n",
              "      <td>-0.282232</td>\n",
              "      <td>-0.672118</td>\n",
              "      <td>0.590828</td>\n",
              "      <td>-0.396229</td>\n",
              "      <td>0.668627</td>\n",
              "      <td>-1.658239</td>\n",
              "      <td>-0.262118</td>\n",
              "      <td>0.353577</td>\n",
              "    </tr>\n",
              "  </tbody>\n",
              "</table>\n",
              "</div>"
            ],
            "text/plain": [
              "   popularity  explicit    energy  key  loudness  speechiness  acousticness  \\\n",
              "0           6         0  1.191149    0  0.377152     0.456233     -1.011163   \n",
              "1           0         0 -0.012844    0 -1.251500     1.842023     -0.385623   \n",
              "2           0         0 -0.581764    1 -1.074529    -0.638706      0.616256   \n",
              "3           0         0 -1.126869    7 -2.329801    -0.640897      0.621342   \n",
              "4           0         0 -0.707456    3 -0.282232    -0.672118      0.590828   \n",
              "\n",
              "   instrumentalness  liveness   valence     tempo  time_signature  \n",
              "0          1.251363 -0.399439 -1.951809 -0.209663       -1.078842  \n",
              "1         -0.745067 -0.419465  0.294639 -0.301066       -3.943679  \n",
              "2         -0.686570  0.007762 -0.547779  0.612610        1.785996  \n",
              "3          1.718270 -0.713183 -0.803057  1.884983       -1.078842  \n",
              "4         -0.396229  0.668627 -1.658239 -0.262118        0.353577  "
            ]
          },
          "execution_count": 51,
          "metadata": {},
          "output_type": "execute_result"
        }
      ],
      "source": [
        "X.head()\n"
      ]
    },
    {
      "attachments": {},
      "cell_type": "markdown",
      "id": "4faa9c09",
      "metadata": {},
      "source": [
        "### Logistic Regression"
      ]
    },
    {
      "cell_type": "code",
      "execution_count": null,
      "id": "1f4a47c2",
      "metadata": {},
      "outputs": [
        {
          "name": "stdout",
          "output_type": "stream",
          "text": [
            "Training Accuracy : 72.28%\n",
            "Testing Accuracy  : 71.36%\n",
            "              precision    recall  f1-score   support\n",
            "\n",
            "           0       0.45      0.03      0.05       865\n",
            "           1       0.72      0.99      0.83      2173\n",
            "\n",
            "    accuracy                           0.71      3038\n",
            "   macro avg       0.59      0.51      0.44      3038\n",
            "weighted avg       0.64      0.71      0.61      3038\n",
            "\n"
          ]
        }
      ],
      "source": [
        "model = LogisticRegression()\n",
        "X_train,X_test,y_train,y_test=train_test_split(X,Y,test_size=0.3,random_state=3)\n",
        "model.fit(X_train,y_train)\n",
        "#passing the predict method your test data. This will return predicted values of y given the new test X data.\n",
        "y_pred=model.predict(X_test) \n",
        "s_pred = model.predict(X_train)\n",
        "\n",
        "Log_Train = round(model.score(X_train, y_train) * 100,2)\n",
        "Log_Test = round(model.score(X_test, y_test) * 100,2)\n",
        "\n",
        "print(\"Training Accuracy : {}%\".format(Log_Train))\n",
        "print(\"Testing Accuracy  : {}%\".format(Log_Test))\n",
        "    \n",
        "\n",
        "\n",
        "#  prediction Summary by species\n",
        "print(classification_report(y_test, y_pred))"
      ]
    }
  ],
  "metadata": {
    "colab": {
      "provenance": []
    },
    "kernelspec": {
      "display_name": "Python 3",
      "language": "python",
      "name": "python3"
    },
    "language_info": {
      "codemirror_mode": {
        "name": "ipython",
        "version": 3
      },
      "file_extension": ".py",
      "mimetype": "text/x-python",
      "name": "python",
      "nbconvert_exporter": "python",
      "pygments_lexer": "ipython3",
      "version": "3.9.2 (tags/v3.9.2:1a79785, Feb 19 2021, 13:44:55) [MSC v.1928 64 bit (AMD64)]"
    },
    "papermill": {
      "default_parameters": {},
      "duration": 45.934294,
      "end_time": "2022-04-20T20:11:30.501934",
      "environment_variables": {},
      "exception": null,
      "input_path": "__notebook__.ipynb",
      "output_path": "__notebook__.ipynb",
      "parameters": {},
      "start_time": "2022-04-20T20:10:44.56764",
      "version": "2.3.4"
    },
    "vscode": {
      "interpreter": {
        "hash": "e9b05936a2a0b3cbef73aac8cd4a387886e28759b5dbbd1dad5c1308939132d7"
      }
    }
  },
  "nbformat": 4,
  "nbformat_minor": 5
}
